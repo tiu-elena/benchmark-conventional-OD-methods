{
 "cells": [
  {
   "cell_type": "code",
   "execution_count": null,
   "id": "eaf91746",
   "metadata": {},
   "outputs": [],
   "source": [
    "import pandas as pd\n",
    "import time\n",
    "import numpy as np\n",
    "from sklearn.ensemble import IsolationForest\n",
    "from sklearn import metrics\n",
    "from sklearn.metrics import classification_report, precision_recall_curve\n",
    "from sklearn.preprocessing import MinMaxScaler\n",
    "from sklearn.neighbors import LocalOutlierFactor\n",
    "from sklearn.cluster import DBSCAN\n",
    "from scipy.spatial import distance\n",
    "from mlxtend.evaluate import mcnemar\n",
    "from mlxtend.evaluate import mcnemar_table\n",
    "import array\n",
    "import matplotlib.pyplot as plt\n",
    "from scipy.stats import wilcoxon, friedmanchisquare, rankdata\n",
    "import seaborn as sb"
   ]
  },
  {
   "cell_type": "code",
   "execution_count": null,
   "id": "83c1a980",
   "metadata": {},
   "outputs": [],
   "source": [
    "#Prediction translation\n",
    "def def_outlier(df):\n",
    "    if (df['y_pred'] in [-1]):\n",
    "        val = 1\n",
    "    else:\n",
    "        val = 0\n",
    "    return val"
   ]
  },
  {
   "cell_type": "code",
   "execution_count": null,
   "id": "6912b870",
   "metadata": {},
   "outputs": [],
   "source": [
    "# k-distances graph\n",
    "def dbscan_tuner(data,dim):\n",
    "    a = data.loc[:, (data.columns != 'y')&(data.columns != 'Outlier')\n",
    "                 &(data.columns != 'Class')&(data.columns != 'Unusual')\n",
    "                 &(data.columns != 'class')]\n",
    "    a = a.to_numpy()\n",
    "    b = distance.cdist(a,a)\n",
    "    \n",
    "    dist = []\n",
    "    for i in b:\n",
    "        l = sorted(i)[dim]\n",
    "        dist.append(l)\n",
    "        \n",
    "    c = data.loc[:, (data.columns != 'y')&(data.columns != 'Outlier')\n",
    "                 &(data.columns != 'Class')&(data.columns != 'Unusual')\n",
    "                 &(data.columns != 'class')]\n",
    "    c['dist'] = dist\n",
    "    c = c.sort_values(by='dist')\n",
    "    d = array.array('i',(i for i in range(1,len(data)+1)))\n",
    "    c['i'] = d\n",
    "    \n",
    "    plt.plot(c['i'],c['dist'])\n",
    "    plt.xlabel(\"Observation index\")\n",
    "    plt.ylabel(\"k-distance\")\n",
    "    \n",
    "    return c"
   ]
  },
  {
   "cell_type": "markdown",
   "id": "f286f942",
   "metadata": {},
   "source": [
    "# Datasets"
   ]
  },
  {
   "cell_type": "code",
   "execution_count": null,
   "id": "5f88ea0e",
   "metadata": {},
   "outputs": [],
   "source": [
    "arrhythmia_data = pd.read_csv('./arrhythmia.csv', sep = ',')"
   ]
  },
  {
   "cell_type": "code",
   "execution_count": null,
   "id": "b48336fa",
   "metadata": {},
   "outputs": [],
   "source": [
    "# dropping columns that consist only of 0's\n",
    "arrhythmia_data = arrhythmia_data.drop(columns = ['Col15', 'Col63', 'Col65', 'Col79', 'Col127', 'Col128','Col135', 'Col137', 'Col139','Col141',\n",
    "'Col147', 'Col152', 'Col153','Col160','Col200', 'Col260', 'Col270'])"
   ]
  },
  {
   "cell_type": "code",
   "execution_count": null,
   "id": "3462c74c",
   "metadata": {},
   "outputs": [],
   "source": [
    "arrhythmia_data.head()"
   ]
  },
  {
   "cell_type": "code",
   "execution_count": null,
   "id": "9a1c4b89",
   "metadata": {},
   "outputs": [],
   "source": [
    "cardiocotography_data = pd.read_csv('./Cardiotocography.csv')"
   ]
  },
  {
   "cell_type": "code",
   "execution_count": null,
   "id": "0dae2688",
   "metadata": {},
   "outputs": [],
   "source": [
    "cardiocotography_data['y'] = cardiocotography_data['y'].astype(int)"
   ]
  },
  {
   "cell_type": "code",
   "execution_count": null,
   "id": "a05e50fe",
   "metadata": {},
   "outputs": [],
   "source": [
    "cardiocotography_data.head()"
   ]
  },
  {
   "cell_type": "code",
   "execution_count": null,
   "id": "fc27e5b4",
   "metadata": {},
   "outputs": [],
   "source": [
    "forestcover_data = pd.read_csv('./ForestCover.csv')"
   ]
  },
  {
   "cell_type": "code",
   "execution_count": null,
   "id": "fa912e1e",
   "metadata": {},
   "outputs": [],
   "source": [
    "forestcover_data.head()"
   ]
  },
  {
   "cell_type": "code",
   "execution_count": null,
   "id": "f2ac9e81",
   "metadata": {},
   "outputs": [],
   "source": [
    "annthyroid_data = pd.read_csv('./annthyroid.csv')"
   ]
  },
  {
   "cell_type": "code",
   "execution_count": null,
   "id": "f694e76e",
   "metadata": {},
   "outputs": [],
   "source": [
    "annthyroid_data.head()"
   ]
  },
  {
   "cell_type": "code",
   "execution_count": null,
   "id": "c6ed1d09",
   "metadata": {},
   "outputs": [],
   "source": [
    "creditcard_data = pd.read_csv('./creditcard.csv')"
   ]
  },
  {
   "cell_type": "code",
   "execution_count": null,
   "id": "be83604e",
   "metadata": {},
   "outputs": [],
   "source": [
    "creditcard_data = creditcard_data.drop(columns = ['Time'])"
   ]
  },
  {
   "cell_type": "code",
   "execution_count": null,
   "id": "30c45143",
   "metadata": {},
   "outputs": [],
   "source": [
    "creditcard_data.head()"
   ]
  },
  {
   "cell_type": "code",
   "execution_count": null,
   "id": "b1c1a7b9",
   "metadata": {},
   "outputs": [],
   "source": [
    "mammography_data = pd.read_csv('./mammography.csv')"
   ]
  },
  {
   "cell_type": "code",
   "execution_count": null,
   "id": "e848537c",
   "metadata": {},
   "outputs": [],
   "source": [
    "mammography_data.head()"
   ]
  },
  {
   "cell_type": "code",
   "execution_count": null,
   "id": "fd1e3050",
   "metadata": {},
   "outputs": [],
   "source": [
    "shuttle_data = pd.read_csv('./shuttle.csv', sep = ',')"
   ]
  },
  {
   "cell_type": "code",
   "execution_count": null,
   "id": "2904140a",
   "metadata": {},
   "outputs": [],
   "source": [
    "shuttle_data.head()"
   ]
  },
  {
   "cell_type": "code",
   "execution_count": null,
   "id": "c2188bb7",
   "metadata": {},
   "outputs": [],
   "source": [
    "mnist_data = pd.read_csv('./mnist.csv')"
   ]
  },
  {
   "cell_type": "code",
   "execution_count": null,
   "id": "9b0d4b97",
   "metadata": {},
   "outputs": [],
   "source": [
    "mnist_data = mnist_data.drop(columns = ['Col1','Col4', 'Col7', 'Col22', 'Col27', 'Col29', 'Col38', 'Col41', 'Col51', 'Col53', 'Col54', 'Col61', 'Col62', 'Col71', 'Col73', 'Col79', 'Col87', 'Col88', 'Col89', 'Col90',\n",
    "'Col92', 'Col100'])"
   ]
  },
  {
   "cell_type": "code",
   "execution_count": null,
   "id": "2ca8781f",
   "metadata": {},
   "outputs": [],
   "source": [
    "mnist_data.head()"
   ]
  },
  {
   "cell_type": "code",
   "execution_count": null,
   "id": "0b5651e9",
   "metadata": {},
   "outputs": [],
   "source": [
    "vowels_data = pd.read_csv('./vowels.csv')"
   ]
  },
  {
   "cell_type": "code",
   "execution_count": null,
   "id": "176be495",
   "metadata": {},
   "outputs": [],
   "source": [
    "vowels_data.head()"
   ]
  },
  {
   "cell_type": "code",
   "execution_count": null,
   "id": "1bee441d",
   "metadata": {},
   "outputs": [],
   "source": [
    "seismic_data = pd.read_csv('./seismic.csv', sep = ',')"
   ]
  },
  {
   "cell_type": "code",
   "execution_count": null,
   "id": "a35989d7",
   "metadata": {},
   "outputs": [],
   "source": [
    "seismic_data = seismic_data.drop(columns = ['nbumps6','nbumps7','nbumps89'])"
   ]
  },
  {
   "cell_type": "code",
   "execution_count": null,
   "id": "dd0d5953",
   "metadata": {},
   "outputs": [],
   "source": [
    "dummies = pd.get_dummies(seismic_data[['seismic','seismoacoustic','shift','ghazard']])\n",
    "seismic_data = pd.concat([seismic_data, dummies], axis = 1)\n",
    "seismic_data = seismic_data.drop(columns = ['seismic','seismoacoustic','shift','ghazard'])"
   ]
  },
  {
   "cell_type": "code",
   "execution_count": null,
   "id": "7259a111",
   "metadata": {},
   "outputs": [],
   "source": [
    "seismic_data.head()"
   ]
  },
  {
   "cell_type": "code",
   "execution_count": null,
   "id": "8895f5e2",
   "metadata": {},
   "outputs": [],
   "source": [
    "musk_data = pd.read_csv('./musk.csv', sep = ',')"
   ]
  },
  {
   "cell_type": "code",
   "execution_count": null,
   "id": "e3a21fe3",
   "metadata": {},
   "outputs": [],
   "source": [
    "musk_data['y'] = musk_data['y'].astype(int)"
   ]
  },
  {
   "cell_type": "code",
   "execution_count": null,
   "id": "ff4f4096",
   "metadata": {},
   "outputs": [],
   "source": [
    "musk_data.head()"
   ]
  },
  {
   "cell_type": "code",
   "execution_count": null,
   "id": "ec52b325",
   "metadata": {},
   "outputs": [],
   "source": [
    "bank_data = pd.read_csv('./bank.csv')"
   ]
  },
  {
   "cell_type": "code",
   "execution_count": null,
   "id": "4777ae1b",
   "metadata": {},
   "outputs": [],
   "source": [
    "bank_data.head()"
   ]
  },
  {
   "cell_type": "markdown",
   "id": "13145ef1",
   "metadata": {},
   "source": [
    "# Isolation Forest"
   ]
  },
  {
   "cell_type": "markdown",
   "id": "e32ea223",
   "metadata": {},
   "source": [
    "## Arrhythmia"
   ]
  },
  {
   "cell_type": "code",
   "execution_count": null,
   "id": "98b8bd25",
   "metadata": {},
   "outputs": [],
   "source": [
    "train_data = arrhythmia_data.copy()"
   ]
  },
  {
   "cell_type": "code",
   "execution_count": null,
   "id": "cb3207f9",
   "metadata": {},
   "outputs": [],
   "source": [
    "start = time.process_time()\n",
    "rng = np.random.RandomState(42)\n",
    "clf = IsolationForest(max_samples = 256, random_state=rng, n_estimators = 100)\n",
    "clf.fit(train_data.loc[:, train_data.columns != 'y'])\n",
    "y_pred = clf.predict(train_data.loc[:, train_data.columns != 'y'])\n",
    "\n",
    "y_scores = clf.score_samples(train_data.loc[:, train_data.columns != 'y'])\n",
    "end = time.process_time()\n",
    "arrhythmia_iforest_time = end - start\n",
    "print(end - start)"
   ]
  },
  {
   "cell_type": "code",
   "execution_count": null,
   "id": "f7e90497",
   "metadata": {},
   "outputs": [],
   "source": [
    "train_data['y_pred'] = y_pred\n",
    "train_data['prediction'] = train_data.apply(def_outlier, axis = 1)\n",
    "train_data['y_scores'] = -y_scores"
   ]
  },
  {
   "cell_type": "code",
   "execution_count": null,
   "id": "8b9002a3",
   "metadata": {},
   "outputs": [],
   "source": [
    "fpr, tpr, _ = metrics.roc_curve(train_data['y'], train_data['y_scores'])\n",
    "arrhythmia_iforest_auc = metrics.auc(fpr, tpr)\n",
    "metrics.auc(fpr, tpr)"
   ]
  },
  {
   "cell_type": "code",
   "execution_count": null,
   "id": "1408f62e",
   "metadata": {},
   "outputs": [],
   "source": [
    "arrhythmia_iforest_report = classification_report(train_data['y'], train_data['prediction'], target_names = ['0','1'], output_dict=True)\n",
    "print(classification_report(train_data['y'], train_data['prediction'], target_names = ['0','1']))"
   ]
  },
  {
   "cell_type": "code",
   "execution_count": null,
   "id": "4b074bda",
   "metadata": {},
   "outputs": [],
   "source": [
    "precision, recall, thresholds = precision_recall_curve(train_data['y'], train_data['y_scores'])\n",
    "arrhythmia_iforest_auc_precision_recall = metrics.auc(recall, precision)\n",
    "print(arrhythmia_iforest_auc_precision_recall)"
   ]
  },
  {
   "cell_type": "code",
   "execution_count": null,
   "id": "4e361cfe",
   "metadata": {},
   "outputs": [],
   "source": [
    "arrhythmia_iforest_y = train_data['prediction']\n",
    "arrhythmia_y_true = train_data['y']"
   ]
  },
  {
   "cell_type": "markdown",
   "id": "fa58d63b",
   "metadata": {},
   "source": [
    "## Cardiocotography"
   ]
  },
  {
   "cell_type": "code",
   "execution_count": null,
   "id": "5f1e1fa5",
   "metadata": {},
   "outputs": [],
   "source": [
    "train_data = cardiocotography_data.copy()"
   ]
  },
  {
   "cell_type": "code",
   "execution_count": null,
   "id": "9a24d562",
   "metadata": {},
   "outputs": [],
   "source": [
    "start = time.process_time()\n",
    "rng = np.random.RandomState(42)\n",
    "clf = IsolationForest(max_samples=256, random_state=rng, n_estimators=100)\n",
    "clf.fit(train_data.loc[:, train_data.columns != 'y'])\n",
    "y_pred = clf.predict(train_data.loc[:, train_data.columns != 'y'])\n",
    "y_scores = clf.score_samples(train_data.loc[:, train_data.columns != 'y'])\n",
    "end = time.process_time()\n",
    "cardiocotography_iforest_time = end - start\n",
    "print(end - start)"
   ]
  },
  {
   "cell_type": "code",
   "execution_count": null,
   "id": "06695ef4",
   "metadata": {},
   "outputs": [],
   "source": [
    "train_data['y_pred'] = y_pred\n",
    "train_data['prediction'] = train_data.apply(def_outlier, axis = 1)\n",
    "train_data['y_scores'] = -y_scores"
   ]
  },
  {
   "cell_type": "code",
   "execution_count": null,
   "id": "1ae11a1f",
   "metadata": {},
   "outputs": [],
   "source": [
    "fpr, tpr, _ = metrics.roc_curve(train_data['y'], train_data['y_scores'])\n",
    "cardiocotography_iforest_auc = metrics.auc(fpr, tpr)\n",
    "metrics.auc(fpr, tpr)"
   ]
  },
  {
   "cell_type": "code",
   "execution_count": null,
   "id": "7b3ea192",
   "metadata": {},
   "outputs": [],
   "source": [
    "cardiocotography_iforest_report = classification_report(train_data['y'], train_data['prediction'], target_names = ['0','1'], output_dict = True)\n",
    "print(classification_report(train_data['y'], train_data['prediction'], target_names = ['0','1']))"
   ]
  },
  {
   "cell_type": "code",
   "execution_count": null,
   "id": "4e856f80",
   "metadata": {},
   "outputs": [],
   "source": [
    "precision, recall, thresholds = precision_recall_curve(train_data['y'], train_data['y_scores'])\n",
    "cardiocotography_iforest_auc_precision_recall = metrics.auc(recall, precision)\n",
    "print(cardiocotography_iforest_auc_precision_recall)"
   ]
  },
  {
   "cell_type": "code",
   "execution_count": null,
   "id": "8c0a01ea",
   "metadata": {},
   "outputs": [],
   "source": [
    "cardio_iforest_y = train_data['prediction']\n",
    "cardio_y_true = train_data['y']"
   ]
  },
  {
   "cell_type": "markdown",
   "id": "d64f43da",
   "metadata": {},
   "source": [
    "## ForestCover"
   ]
  },
  {
   "cell_type": "code",
   "execution_count": null,
   "id": "8da55895",
   "metadata": {},
   "outputs": [],
   "source": [
    "train_data = forestcover_data.copy()"
   ]
  },
  {
   "cell_type": "code",
   "execution_count": null,
   "id": "45d3051e",
   "metadata": {},
   "outputs": [],
   "source": [
    "start = time.process_time()\n",
    "rng = np.random.RandomState(42)\n",
    "clf = IsolationForest(max_samples=256, random_state=rng, n_estimators=100)\n",
    "clf.fit(train_data.loc[:, train_data.columns != 'y'])\n",
    "y_pred = clf.predict(train_data.loc[:, train_data.columns != 'y'])\n",
    "y_scores = clf.score_samples(train_data.loc[:, train_data.columns != 'y'])\n",
    "end = time.process_time()\n",
    "forestcover_iforest_time = end - start\n",
    "print(end - start)"
   ]
  },
  {
   "cell_type": "code",
   "execution_count": null,
   "id": "96b032a1",
   "metadata": {},
   "outputs": [],
   "source": [
    "train_data['y_pred'] = y_pred\n",
    "train_data['prediction'] = train_data.apply(def_outlier, axis = 1)\n",
    "train_data['y_scores'] = -y_scores "
   ]
  },
  {
   "cell_type": "code",
   "execution_count": null,
   "id": "ed43fd48",
   "metadata": {},
   "outputs": [],
   "source": [
    "fpr, tpr, _ = metrics.roc_curve(train_data['y'], train_data['y_scores'])\n",
    "forestcover_iforest_auc = metrics.auc(fpr, tpr)\n",
    "metrics.auc(fpr, tpr)"
   ]
  },
  {
   "cell_type": "code",
   "execution_count": null,
   "id": "e30e4cb6",
   "metadata": {},
   "outputs": [],
   "source": [
    "forestcover_iforest_report = classification_report(train_data['y'], train_data['prediction'], target_names = ['0','1'], output_dict = True)\n",
    "print(classification_report(train_data['y'], train_data['prediction'], target_names = ['0','1']))"
   ]
  },
  {
   "cell_type": "code",
   "execution_count": null,
   "id": "54239c05",
   "metadata": {},
   "outputs": [],
   "source": [
    "precision, recall, thresholds = precision_recall_curve(train_data['y'], train_data['y_scores'])\n",
    "forestcover_iforest_auc_precision_recall = metrics.auc(recall, precision)\n",
    "print(forestcover_iforest_auc_precision_recall)"
   ]
  },
  {
   "cell_type": "code",
   "execution_count": null,
   "id": "b1080cb4",
   "metadata": {},
   "outputs": [],
   "source": [
    "forestcover_iforest_y = train_data['prediction']\n",
    "forestcover_y_true = train_data['y']"
   ]
  },
  {
   "cell_type": "markdown",
   "id": "0c05d547",
   "metadata": {},
   "source": [
    "## Annthyroid"
   ]
  },
  {
   "cell_type": "code",
   "execution_count": null,
   "id": "b1e67a56",
   "metadata": {},
   "outputs": [],
   "source": [
    "train_data = annthyroid_data.copy()"
   ]
  },
  {
   "cell_type": "code",
   "execution_count": null,
   "id": "dc2a6110",
   "metadata": {},
   "outputs": [],
   "source": [
    "start = time.process_time()\n",
    "\n",
    "rng = np.random.RandomState(42)\n",
    "clf = IsolationForest(max_samples=256, random_state=rng, n_estimators=100)\n",
    "clf.fit(train_data.loc[:, train_data.columns != 'y'])\n",
    "y_pred = clf.predict(train_data.loc[:, train_data.columns != 'y'])\n",
    "y_scores = clf.score_samples(train_data.loc[:, train_data.columns != 'y'])\n",
    "\n",
    "end = time.process_time()\n",
    "annthyroid_iforest_time = end - start\n",
    "print(end - start)"
   ]
  },
  {
   "cell_type": "code",
   "execution_count": null,
   "id": "3972e3ce",
   "metadata": {},
   "outputs": [],
   "source": [
    "train_data['y_pred'] = y_pred\n",
    "train_data['prediction'] = train_data.apply(def_outlier, axis = 1)\n",
    "train_data['y_scores'] = -y_scores"
   ]
  },
  {
   "cell_type": "code",
   "execution_count": null,
   "id": "1d51a520",
   "metadata": {},
   "outputs": [],
   "source": [
    "fpr, tpr, _ = metrics.roc_curve(train_data['y'], train_data['y_scores'])\n",
    "annthyroid_iforest_auc = metrics.auc(fpr, tpr)\n",
    "metrics.auc(fpr, tpr)"
   ]
  },
  {
   "cell_type": "code",
   "execution_count": null,
   "id": "423fd7c3",
   "metadata": {},
   "outputs": [],
   "source": [
    "annthyroid_iforest_report = classification_report(train_data['y'], train_data['prediction'], target_names = ['0','1'], output_dict = True)\n",
    "print(classification_report(train_data['y'], train_data['prediction'], target_names = ['0','1']))"
   ]
  },
  {
   "cell_type": "code",
   "execution_count": null,
   "id": "4e14a2d3",
   "metadata": {},
   "outputs": [],
   "source": [
    "precision, recall, thresholds = precision_recall_curve(train_data['y'], train_data['y_scores'])\n",
    "annthyroid_iforest_auc_precision_recall = metrics.auc(recall, precision)\n",
    "print(annthyroid_iforest_auc_precision_recall)"
   ]
  },
  {
   "cell_type": "code",
   "execution_count": null,
   "id": "108a0213",
   "metadata": {},
   "outputs": [],
   "source": [
    "annthyroid_iforest_y = train_data['prediction']\n",
    "annthyroid_y_true = train_data['y']"
   ]
  },
  {
   "cell_type": "markdown",
   "id": "146f0893",
   "metadata": {},
   "source": [
    "## Credit card"
   ]
  },
  {
   "cell_type": "code",
   "execution_count": null,
   "id": "32741501",
   "metadata": {},
   "outputs": [],
   "source": [
    "train_data = creditcard_data.copy()"
   ]
  },
  {
   "cell_type": "code",
   "execution_count": null,
   "id": "5382dc38",
   "metadata": {},
   "outputs": [],
   "source": [
    "start = time.process_time()\n",
    "\n",
    "rng = np.random.RandomState(42)\n",
    "clf = IsolationForest(max_samples=256, random_state=rng, n_estimators=100)\n",
    "clf.fit(train_data.loc[:, train_data.columns != 'Class'])\n",
    "y_pred = clf.predict(train_data.loc[:, train_data.columns != 'Class'])\n",
    "y_scores = clf.score_samples(train_data.loc[:, train_data.columns != 'Class'])\n",
    "\n",
    "end = time.process_time()\n",
    "creditcard_iforest_time = end - start\n",
    "print(end - start)"
   ]
  },
  {
   "cell_type": "code",
   "execution_count": null,
   "id": "78f8e2f8",
   "metadata": {},
   "outputs": [],
   "source": [
    "train_data['y_pred'] = y_pred\n",
    "train_data['prediction'] = train_data.apply(def_outlier, axis = 1)\n",
    "train_data['y_scores'] = -y_scores"
   ]
  },
  {
   "cell_type": "code",
   "execution_count": null,
   "id": "b7faa2f3",
   "metadata": {},
   "outputs": [],
   "source": [
    "fpr, tpr, _ = metrics.roc_curve(train_data['Class'], train_data['y_scores'])\n",
    "creditcard_iforest_auc = metrics.auc(fpr, tpr)\n",
    "metrics.auc(fpr, tpr)"
   ]
  },
  {
   "cell_type": "code",
   "execution_count": null,
   "id": "083f34ba",
   "metadata": {},
   "outputs": [],
   "source": [
    "creditcard_iforest_report = classification_report(train_data['Class'], train_data['prediction'], target_names = ['0','1'], output_dict = True)\n",
    "print(classification_report(train_data['Class'], train_data['prediction'], target_names = ['0','1']))"
   ]
  },
  {
   "cell_type": "code",
   "execution_count": null,
   "id": "c2e43a37",
   "metadata": {},
   "outputs": [],
   "source": [
    "precision, recall, thresholds = precision_recall_curve(train_data['Class'], train_data['y_scores'])\n",
    "creditcard_iforest_auc_precision_recall = metrics.auc(recall, precision)\n",
    "print(creditcard_iforest_auc_precision_recall)"
   ]
  },
  {
   "cell_type": "code",
   "execution_count": null,
   "id": "6f33ab7b",
   "metadata": {},
   "outputs": [],
   "source": [
    "creditcard_iforest_y = train_data['prediction']\n",
    "creditcard_y_true = train_data['Class']"
   ]
  },
  {
   "cell_type": "markdown",
   "id": "97cd4f59",
   "metadata": {},
   "source": [
    "## Mammography"
   ]
  },
  {
   "cell_type": "code",
   "execution_count": null,
   "id": "2a43cdf9",
   "metadata": {},
   "outputs": [],
   "source": [
    "train_data = mammography_data.copy()"
   ]
  },
  {
   "cell_type": "code",
   "execution_count": null,
   "id": "eeea528f",
   "metadata": {},
   "outputs": [],
   "source": [
    "start = time.process_time()\n",
    "\n",
    "rng = np.random.RandomState(42)\n",
    "clf = IsolationForest(max_samples=256, random_state=rng, n_estimators=100)\n",
    "clf.fit(train_data.loc[:, train_data.columns != 'y'])\n",
    "y_pred = clf.predict(train_data.loc[:, train_data.columns != 'y'])\n",
    "y_scores = clf.score_samples(train_data.loc[:, train_data.columns != 'y'])\n",
    "\n",
    "end = time.process_time()\n",
    "mammography_iforest_time = end - start\n",
    "print(end - start)"
   ]
  },
  {
   "cell_type": "code",
   "execution_count": null,
   "id": "15de49c1",
   "metadata": {},
   "outputs": [],
   "source": [
    "train_data['y_pred'] = y_pred\n",
    "train_data['prediction'] = train_data.apply(def_outlier, axis = 1)\n",
    "train_data['y_scores'] = -y_scores"
   ]
  },
  {
   "cell_type": "code",
   "execution_count": null,
   "id": "82016f1c",
   "metadata": {},
   "outputs": [],
   "source": [
    "fpr, tpr, _ = metrics.roc_curve(train_data['y'], train_data['y_scores'])\n",
    "mammography_iforest_auc = metrics.auc(fpr, tpr)\n",
    "metrics.auc(fpr, tpr)"
   ]
  },
  {
   "cell_type": "code",
   "execution_count": null,
   "id": "285847f2",
   "metadata": {},
   "outputs": [],
   "source": [
    "mammography_iforest_report = classification_report(train_data['y'], train_data['prediction'], target_names = ['0','1'], output_dict = True)\n",
    "print(classification_report(train_data['y'], train_data['prediction'], target_names = ['0','1']))"
   ]
  },
  {
   "cell_type": "code",
   "execution_count": null,
   "id": "16f26e47",
   "metadata": {},
   "outputs": [],
   "source": [
    "precision, recall, thresholds = precision_recall_curve(train_data['y'], train_data['y_scores'])\n",
    "mammography_iforest_auc_precision_recall = metrics.auc(recall, precision)\n",
    "print(mammography_iforest_auc_precision_recall)"
   ]
  },
  {
   "cell_type": "code",
   "execution_count": null,
   "id": "2f087600",
   "metadata": {},
   "outputs": [],
   "source": [
    "mammography_iforest_y = train_data['prediction']\n",
    "mammography_y_true = train_data['y']"
   ]
  },
  {
   "cell_type": "markdown",
   "id": "4ebeddd0",
   "metadata": {},
   "source": [
    "## Shuttle"
   ]
  },
  {
   "cell_type": "code",
   "execution_count": null,
   "id": "fb7e2bf4",
   "metadata": {},
   "outputs": [],
   "source": [
    "train_data = shuttle_data.copy()"
   ]
  },
  {
   "cell_type": "code",
   "execution_count": null,
   "id": "02c8e839",
   "metadata": {},
   "outputs": [],
   "source": [
    "start = time.process_time()\n",
    "\n",
    "rng = np.random.RandomState(42)\n",
    "clf = IsolationForest(max_samples=256, random_state=rng, n_estimators = 100)\n",
    "clf.fit(train_data.loc[:, train_data.columns != 'y'])\n",
    "y_pred = clf.predict(train_data.loc[:, train_data.columns != 'y'])\n",
    "y_scores = clf.score_samples(train_data.loc[:, train_data.columns != 'y'])\n",
    "\n",
    "end = time.process_time()\n",
    "shuttle_iforest_time = end - start\n",
    "print(end - start)"
   ]
  },
  {
   "cell_type": "code",
   "execution_count": null,
   "id": "82db4e9c",
   "metadata": {},
   "outputs": [],
   "source": [
    "train_data['y_pred'] = y_pred\n",
    "train_data['prediction'] = train_data.apply(def_outlier, axis = 1)\n",
    "train_data['y_scores'] = -y_scores"
   ]
  },
  {
   "cell_type": "code",
   "execution_count": null,
   "id": "6e9848c4",
   "metadata": {},
   "outputs": [],
   "source": [
    "fpr, tpr, _ = metrics.roc_curve(train_data['y'], train_data['y_scores'])\n",
    "shuttle_iforest_auc = metrics.auc(fpr, tpr)\n",
    "metrics.auc(fpr, tpr)"
   ]
  },
  {
   "cell_type": "code",
   "execution_count": null,
   "id": "6c016d2f",
   "metadata": {},
   "outputs": [],
   "source": [
    "shuttle_iforest_report = classification_report(train_data['y'], train_data['prediction'], target_names = ['0','1'], output_dict = True)\n",
    "print(classification_report(train_data['y'], train_data['prediction'], target_names = ['0','1']))"
   ]
  },
  {
   "cell_type": "code",
   "execution_count": null,
   "id": "3c5bc29f",
   "metadata": {},
   "outputs": [],
   "source": [
    "precision, recall, thresholds = precision_recall_curve(train_data['y'], train_data['y_scores'])\n",
    "shuttle_iforest_auc_precision_recall = metrics.auc(recall, precision)\n",
    "print(shuttle_iforest_auc_precision_recall)"
   ]
  },
  {
   "cell_type": "code",
   "execution_count": null,
   "id": "c3f35562",
   "metadata": {},
   "outputs": [],
   "source": [
    "shuttle_iforest_y = train_data['prediction']\n",
    "shuttle_y_true = train_data['y']"
   ]
  },
  {
   "cell_type": "markdown",
   "id": "4a40cfb4",
   "metadata": {},
   "source": [
    "## Mnist"
   ]
  },
  {
   "cell_type": "code",
   "execution_count": null,
   "id": "84c6aae5",
   "metadata": {},
   "outputs": [],
   "source": [
    "train_data = mnist_data.copy()"
   ]
  },
  {
   "cell_type": "code",
   "execution_count": null,
   "id": "5800844a",
   "metadata": {},
   "outputs": [],
   "source": [
    "start = time.process_time()\n",
    "\n",
    "rng = np.random.RandomState(42)\n",
    "clf = IsolationForest(max_samples=256, random_state=rng, n_estimators = 100)\n",
    "clf.fit(train_data.loc[:, train_data.columns != 'y'])\n",
    "y_pred = clf.predict(train_data.loc[:, train_data.columns != 'y'])\n",
    "y_scores = clf.score_samples(train_data.loc[:, train_data.columns != 'y'])\n",
    "\n",
    "end = time.process_time()\n",
    "mnist_iforest_time = end - start\n",
    "print(end - start)"
   ]
  },
  {
   "cell_type": "code",
   "execution_count": null,
   "id": "6a93168e",
   "metadata": {},
   "outputs": [],
   "source": [
    "train_data['y_pred'] = y_pred\n",
    "train_data['prediction'] = train_data.apply(def_outlier, axis = 1)\n",
    "train_data['y_scores'] = -y_scores"
   ]
  },
  {
   "cell_type": "code",
   "execution_count": null,
   "id": "b88a81fb",
   "metadata": {},
   "outputs": [],
   "source": [
    "fpr, tpr, _ = metrics.roc_curve(train_data['y'], train_data['y_scores'])\n",
    "mnist_iforest_auc = metrics.auc(fpr, tpr)\n",
    "metrics.auc(fpr, tpr)"
   ]
  },
  {
   "cell_type": "code",
   "execution_count": null,
   "id": "ae8665d2",
   "metadata": {},
   "outputs": [],
   "source": [
    "mnist_iforest_report = classification_report(train_data['y'], train_data['prediction'], target_names = ['0','1'], output_dict = True)\n",
    "print(classification_report(train_data['y'], train_data['prediction'], target_names = ['0','1']))"
   ]
  },
  {
   "cell_type": "code",
   "execution_count": null,
   "id": "84ef298b",
   "metadata": {},
   "outputs": [],
   "source": [
    "precision, recall, thresholds = precision_recall_curve(train_data['y'], train_data['y_scores'])\n",
    "mnist_iforest_auc_precision_recall = metrics.auc(recall, precision)\n",
    "print(mnist_iforest_auc_precision_recall)"
   ]
  },
  {
   "cell_type": "code",
   "execution_count": null,
   "id": "f6c042f2",
   "metadata": {},
   "outputs": [],
   "source": [
    "mnist_iforest_y = train_data['prediction']\n",
    "mnist_y_true = train_data['y']"
   ]
  },
  {
   "cell_type": "markdown",
   "id": "10735b57",
   "metadata": {},
   "source": [
    "## Vowels"
   ]
  },
  {
   "cell_type": "code",
   "execution_count": null,
   "id": "e02c6738",
   "metadata": {},
   "outputs": [],
   "source": [
    "train_data = vowels_data.copy()"
   ]
  },
  {
   "cell_type": "code",
   "execution_count": null,
   "id": "180ece0a",
   "metadata": {},
   "outputs": [],
   "source": [
    "start = time.process_time()\n",
    "\n",
    "rng = np.random.RandomState(42)\n",
    "clf = IsolationForest(max_samples=256, random_state=rng, n_estimators = 100)\n",
    "clf.fit(train_data.loc[:, train_data.columns != 'y'])\n",
    "y_pred = clf.predict(train_data.loc[:, train_data.columns != 'y'])\n",
    "y_scores = clf.score_samples(train_data.loc[:, train_data.columns != 'y'])\n",
    "\n",
    "end = time.process_time()\n",
    "vowels_iforest_time = end - start\n",
    "print(end - start)"
   ]
  },
  {
   "cell_type": "code",
   "execution_count": null,
   "id": "dabc5658",
   "metadata": {},
   "outputs": [],
   "source": [
    "train_data['y_pred'] = y_pred\n",
    "train_data['prediction'] = train_data.apply(def_outlier, axis = 1)\n",
    "train_data['y_scores'] = -y_scores"
   ]
  },
  {
   "cell_type": "code",
   "execution_count": null,
   "id": "0c49448d",
   "metadata": {},
   "outputs": [],
   "source": [
    "fpr, tpr, _ = metrics.roc_curve(train_data['y'], train_data['y_scores'])\n",
    "vowels_iforest_auc = metrics.auc(fpr, tpr)\n",
    "metrics.auc(fpr, tpr)"
   ]
  },
  {
   "cell_type": "code",
   "execution_count": null,
   "id": "ae667c95",
   "metadata": {},
   "outputs": [],
   "source": [
    "vowels_iforest_report = classification_report(train_data['y'], train_data['prediction'], target_names = ['0','1'], output_dict = True)\n",
    "print(classification_report(train_data['y'], train_data['prediction'], target_names = ['0','1']))"
   ]
  },
  {
   "cell_type": "code",
   "execution_count": null,
   "id": "1238a51d",
   "metadata": {},
   "outputs": [],
   "source": [
    "precision, recall, thresholds = precision_recall_curve(train_data['y'], train_data['y_scores'])\n",
    "vowels_iforest_auc_precision_recall = metrics.auc(recall, precision)\n",
    "print(vowels_iforest_auc_precision_recall)"
   ]
  },
  {
   "cell_type": "code",
   "execution_count": null,
   "id": "d6a2e7d0",
   "metadata": {},
   "outputs": [],
   "source": [
    "vowels_iforest_y = train_data['prediction']\n",
    "vowels_y_true = train_data['y']"
   ]
  },
  {
   "cell_type": "markdown",
   "id": "95b2577a",
   "metadata": {},
   "source": [
    "## Seismic"
   ]
  },
  {
   "cell_type": "code",
   "execution_count": null,
   "id": "d4eca6b1",
   "metadata": {},
   "outputs": [],
   "source": [
    "train_data = seismic_data.copy()"
   ]
  },
  {
   "cell_type": "code",
   "execution_count": null,
   "id": "3d25ef50",
   "metadata": {},
   "outputs": [],
   "source": [
    "start = time.process_time()\n",
    "rng = np.random.RandomState(42)\n",
    "clf = IsolationForest(max_samples = 256, random_state=rng, n_estimators = 100)\n",
    "clf.fit(train_data.loc[:, train_data.columns != 'class'])\n",
    "y_pred = clf.predict(train_data.loc[:, train_data.columns != 'class'])\n",
    "y_scores = clf.score_samples(train_data.loc[:, train_data.columns != 'class'])\n",
    "end = time.process_time()\n",
    "seismic_iforest_time = end - start\n",
    "print(end - start)"
   ]
  },
  {
   "cell_type": "code",
   "execution_count": null,
   "id": "e81b33bf",
   "metadata": {},
   "outputs": [],
   "source": [
    "train_data['y_pred'] = y_pred\n",
    "train_data['prediction'] = train_data.apply(def_outlier, axis = 1)\n",
    "train_data['y_scores'] = -y_scores"
   ]
  },
  {
   "cell_type": "code",
   "execution_count": null,
   "id": "bdd7a787",
   "metadata": {},
   "outputs": [],
   "source": [
    "fpr, tpr, _ = metrics.roc_curve(train_data['class'], train_data['y_scores'])\n",
    "seismic_iforest_auc = metrics.auc(fpr, tpr)\n",
    "metrics.auc(fpr, tpr)"
   ]
  },
  {
   "cell_type": "code",
   "execution_count": null,
   "id": "ca5d17f8",
   "metadata": {},
   "outputs": [],
   "source": [
    "seismic_iforest_report = classification_report(train_data['class'], train_data['prediction'], target_names = ['0','1'], output_dict=True)\n",
    "print(classification_report(train_data['class'], train_data['prediction'], target_names = ['0','1']))"
   ]
  },
  {
   "cell_type": "code",
   "execution_count": null,
   "id": "35cd59f6",
   "metadata": {},
   "outputs": [],
   "source": [
    "precision, recall, thresholds = precision_recall_curve(train_data['class'], train_data['y_scores'])\n",
    "seismic_iforest_auc_precision_recall = metrics.auc(recall, precision)\n",
    "print(seismic_iforest_auc_precision_recall)"
   ]
  },
  {
   "cell_type": "code",
   "execution_count": null,
   "id": "11ed4bb5",
   "metadata": {},
   "outputs": [],
   "source": [
    "seismic_iforest_y = train_data['prediction']\n",
    "seismic_y_true = train_data['class']"
   ]
  },
  {
   "cell_type": "markdown",
   "id": "13de90ad",
   "metadata": {},
   "source": [
    "## Musk"
   ]
  },
  {
   "cell_type": "code",
   "execution_count": null,
   "id": "69357331",
   "metadata": {},
   "outputs": [],
   "source": [
    "train_data = musk_data.copy()"
   ]
  },
  {
   "cell_type": "code",
   "execution_count": null,
   "id": "7fc3db2e",
   "metadata": {},
   "outputs": [],
   "source": [
    "start = time.process_time()\n",
    "rng = np.random.RandomState(42)\n",
    "clf = IsolationForest(max_samples = 256, random_state=rng, n_estimators = 100)\n",
    "clf.fit(train_data.loc[:, train_data.columns != 'y'])\n",
    "y_pred = clf.predict(train_data.loc[:, train_data.columns != 'y'])\n",
    "y_scores = clf.score_samples(train_data.loc[:, train_data.columns != 'y'])\n",
    "end = time.process_time()\n",
    "musk_iforest_time = end - start\n",
    "print(end - start)"
   ]
  },
  {
   "cell_type": "code",
   "execution_count": null,
   "id": "f8145855",
   "metadata": {},
   "outputs": [],
   "source": [
    "train_data['y_pred'] = y_pred\n",
    "train_data['prediction'] = train_data.apply(def_outlier, axis = 1)\n",
    "train_data['y_scores'] = -y_scores"
   ]
  },
  {
   "cell_type": "code",
   "execution_count": null,
   "id": "23bf96a3",
   "metadata": {},
   "outputs": [],
   "source": [
    "fpr, tpr, _ = metrics.roc_curve(train_data['y'], train_data['y_scores'])\n",
    "musk_iforest_auc = metrics.auc(fpr, tpr)\n",
    "metrics.auc(fpr, tpr)"
   ]
  },
  {
   "cell_type": "code",
   "execution_count": null,
   "id": "fa225aab",
   "metadata": {},
   "outputs": [],
   "source": [
    "musk_iforest_report = classification_report(train_data['y'], train_data['prediction'], target_names = ['0','1'], output_dict=True)\n",
    "print(classification_report(train_data['y'], train_data['prediction'], target_names = ['0','1']))"
   ]
  },
  {
   "cell_type": "code",
   "execution_count": null,
   "id": "0e70fff0",
   "metadata": {},
   "outputs": [],
   "source": [
    "precision, recall, thresholds = precision_recall_curve(train_data['y'], train_data['y_scores'])\n",
    "musk_iforest_auc_precision_recall = metrics.auc(recall, precision)\n",
    "print(musk_iforest_auc_precision_recall)"
   ]
  },
  {
   "cell_type": "code",
   "execution_count": null,
   "id": "99392a52",
   "metadata": {},
   "outputs": [],
   "source": [
    "musk_iforest_y = train_data['prediction']\n",
    "musk_y_true = train_data['y']"
   ]
  },
  {
   "cell_type": "markdown",
   "id": "538f7cfc",
   "metadata": {},
   "source": [
    "## Bank"
   ]
  },
  {
   "cell_type": "code",
   "execution_count": null,
   "id": "1b60b930",
   "metadata": {},
   "outputs": [],
   "source": [
    "train_data = bank_data.copy()"
   ]
  },
  {
   "cell_type": "code",
   "execution_count": null,
   "id": "a6d131b2",
   "metadata": {},
   "outputs": [],
   "source": [
    "start = time.process_time()\n",
    "rng = np.random.RandomState(42)\n",
    "clf = IsolationForest(max_samples = 256, random_state=rng, n_estimators = 100)\n",
    "clf.fit(train_data.loc[:, train_data.columns != 'class'])\n",
    "y_pred = clf.predict(train_data.loc[:, train_data.columns != 'class'])\n",
    "y_scores = clf.score_samples(train_data.loc[:, train_data.columns != 'class'])\n",
    "end = time.process_time()\n",
    "bank_iforest_time = end - start\n",
    "print(end - start)"
   ]
  },
  {
   "cell_type": "code",
   "execution_count": null,
   "id": "7fca17d1",
   "metadata": {},
   "outputs": [],
   "source": [
    "train_data['y_pred'] = y_pred\n",
    "train_data['prediction'] = train_data.apply(def_outlier, axis = 1)\n",
    "train_data['y_scores'] = -y_scores"
   ]
  },
  {
   "cell_type": "code",
   "execution_count": null,
   "id": "aca36a1f",
   "metadata": {},
   "outputs": [],
   "source": [
    "fpr, tpr, _ = metrics.roc_curve(train_data['class'], train_data['y_scores'])\n",
    "bank_iforest_auc = metrics.auc(fpr, tpr)\n",
    "metrics.auc(fpr, tpr)"
   ]
  },
  {
   "cell_type": "code",
   "execution_count": null,
   "id": "9c862bf8",
   "metadata": {},
   "outputs": [],
   "source": [
    "bank_iforest_report = classification_report(train_data['class'], train_data['prediction'], target_names = ['0','1'], output_dict=True)\n",
    "print(classification_report(train_data['class'], train_data['prediction'], target_names = ['0','1']))"
   ]
  },
  {
   "cell_type": "code",
   "execution_count": null,
   "id": "568d9beb",
   "metadata": {},
   "outputs": [],
   "source": [
    "precision, recall, thresholds = precision_recall_curve(train_data['class'], train_data['y_scores'])\n",
    "bank_iforest_auc_precision_recall = metrics.auc(recall, precision)\n",
    "print(bank_iforest_auc_precision_recall)"
   ]
  },
  {
   "cell_type": "code",
   "execution_count": null,
   "id": "bead6c7b",
   "metadata": {},
   "outputs": [],
   "source": [
    "bank_iforest_y = train_data['prediction']\n",
    "bank_y_true = train_data['class']"
   ]
  },
  {
   "cell_type": "markdown",
   "id": "650f9753",
   "metadata": {},
   "source": [
    "# LOF"
   ]
  },
  {
   "cell_type": "markdown",
   "id": "fd3e9081",
   "metadata": {},
   "source": [
    "## Arrhythmia"
   ]
  },
  {
   "cell_type": "code",
   "execution_count": null,
   "id": "0efa2f31",
   "metadata": {},
   "outputs": [],
   "source": [
    "min_max_scaler = MinMaxScaler(feature_range=(0, 1))\n",
    "train_data = min_max_scaler.fit_transform(arrhythmia_data.copy())\n",
    "train_data = pd.DataFrame(train_data)\n",
    "train_data.columns = arrhythmia_data.columns"
   ]
  },
  {
   "cell_type": "code",
   "execution_count": null,
   "id": "67674408",
   "metadata": {},
   "outputs": [],
   "source": [
    "start = time.process_time()\n",
    "lof = LocalOutlierFactor(n_neighbors=10, contamination=.1)\n",
    "y_pred = lof.fit_predict(train_data.loc[:, train_data.columns != 'y'])\n",
    "y_scores = lof.negative_outlier_factor_\n",
    "end = time.process_time()\n",
    "arrhythmia_lof_time = end - start\n",
    "print(end - start)"
   ]
  },
  {
   "cell_type": "code",
   "execution_count": null,
   "id": "fc7c9452",
   "metadata": {},
   "outputs": [],
   "source": [
    "train_data['y_pred'] = y_pred\n",
    "train_data['prediction'] = train_data.apply(def_outlier, axis = 1)\n",
    "train_data['y_scores'] = -y_scores"
   ]
  },
  {
   "cell_type": "code",
   "execution_count": null,
   "id": "a065e269",
   "metadata": {},
   "outputs": [],
   "source": [
    "fpr, tpr, _ = metrics.roc_curve(train_data['y'], train_data['y_scores'])\n",
    "arrhythmia_lof_auc = metrics.auc(fpr, tpr)\n",
    "metrics.auc(fpr, tpr)"
   ]
  },
  {
   "cell_type": "code",
   "execution_count": null,
   "id": "8e0c54ad",
   "metadata": {},
   "outputs": [],
   "source": [
    "arrhythmia_lof_report = classification_report(train_data['y'], train_data['prediction'], target_names = ['0','1'], output_dict=True)\n",
    "print(classification_report(train_data['y'], train_data['prediction'], target_names = ['0','1']))"
   ]
  },
  {
   "cell_type": "code",
   "execution_count": null,
   "id": "e1af796c",
   "metadata": {},
   "outputs": [],
   "source": [
    "precision, recall, thresholds = precision_recall_curve(train_data['y'], train_data['y_scores'])\n",
    "arrhythmia_lof_auc_precision_recall = metrics.auc(recall, precision)\n",
    "print(arrhythmia_lof_auc_precision_recall)"
   ]
  },
  {
   "cell_type": "code",
   "execution_count": null,
   "id": "82c2b0ab",
   "metadata": {},
   "outputs": [],
   "source": [
    "arrhythmia_lof_y = train_data['prediction']"
   ]
  },
  {
   "cell_type": "markdown",
   "id": "a99af682",
   "metadata": {},
   "source": [
    "## Cardiocotography"
   ]
  },
  {
   "cell_type": "code",
   "execution_count": null,
   "id": "cc901487",
   "metadata": {},
   "outputs": [],
   "source": [
    "min_max_scaler = MinMaxScaler(feature_range=(0, 1))\n",
    "train_data = min_max_scaler.fit_transform(cardiocotography_data.copy())\n",
    "train_data = pd.DataFrame(train_data)\n",
    "train_data.columns = cardiocotography_data.columns"
   ]
  },
  {
   "cell_type": "code",
   "execution_count": null,
   "id": "1a0e3a94",
   "metadata": {},
   "outputs": [],
   "source": [
    "start = time.process_time()\n",
    "lof = LocalOutlierFactor(n_neighbors=18, contamination=.1, novelty=False)\n",
    "y_pred = lof.fit_predict(train_data.loc[:, train_data.columns != 'y'])\n",
    "y_scores = lof.negative_outlier_factor_\n",
    "end = time.process_time()\n",
    "cardiocotography_lof_time = end - start \n",
    "print(end - start)"
   ]
  },
  {
   "cell_type": "code",
   "execution_count": null,
   "id": "1ed6cf44",
   "metadata": {},
   "outputs": [],
   "source": [
    "train_data['y_pred'] = y_pred\n",
    "train_data['prediction'] = train_data.apply(def_outlier, axis = 1)\n",
    "train_data['y_scores'] = -y_scores"
   ]
  },
  {
   "cell_type": "code",
   "execution_count": null,
   "id": "1411af24",
   "metadata": {},
   "outputs": [],
   "source": [
    "fpr, tpr, _ = metrics.roc_curve(train_data['y'], train_data['y_scores'])\n",
    "cardiocotography_lof_auc = metrics.auc(fpr, tpr)\n",
    "metrics.auc(fpr, tpr)"
   ]
  },
  {
   "cell_type": "code",
   "execution_count": null,
   "id": "5500653c",
   "metadata": {},
   "outputs": [],
   "source": [
    "cardiocotography_lof_report = classification_report(train_data['y'], train_data['prediction'], target_names = ['0','1'], output_dict = True)\n",
    "print(classification_report(train_data['y'], train_data['prediction'], target_names = ['0','1']))"
   ]
  },
  {
   "cell_type": "code",
   "execution_count": null,
   "id": "0d7fd621",
   "metadata": {},
   "outputs": [],
   "source": [
    "precision, recall, thresholds = precision_recall_curve(train_data['y'], train_data['y_scores'])\n",
    "cardiocotography_lof_auc_precision_recall = metrics.auc(recall, precision)\n",
    "print(cardiocotography_lof_auc_precision_recall)"
   ]
  },
  {
   "cell_type": "code",
   "execution_count": null,
   "id": "f8135660",
   "metadata": {},
   "outputs": [],
   "source": [
    "cardio_lof_y = train_data['prediction']"
   ]
  },
  {
   "cell_type": "markdown",
   "id": "51706263",
   "metadata": {},
   "source": [
    "## ForestCover"
   ]
  },
  {
   "cell_type": "code",
   "execution_count": null,
   "id": "806a4926",
   "metadata": {},
   "outputs": [],
   "source": [
    "min_max_scaler = MinMaxScaler(feature_range=(0, 1))\n",
    "train_data = min_max_scaler.fit_transform(forestcover_data.copy())\n",
    "train_data = pd.DataFrame(train_data)\n",
    "train_data.columns = forestcover_data.columns"
   ]
  },
  {
   "cell_type": "code",
   "execution_count": null,
   "id": "6db642ab",
   "metadata": {},
   "outputs": [],
   "source": [
    "start = time.process_time()\n",
    "lof = LocalOutlierFactor(n_neighbors=2860, contamination=.1)\n",
    "y_pred = lof.fit_predict(train_data.loc[:, train_data.columns != 'y'])\n",
    "y_scores = lof.negative_outlier_factor_\n",
    "end = time.process_time()\n",
    "forestcover_lof_time = end - start\n",
    "print(end - start)"
   ]
  },
  {
   "cell_type": "code",
   "execution_count": null,
   "id": "6e98b4c0",
   "metadata": {},
   "outputs": [],
   "source": [
    "train_data['y_pred'] = y_pred\n",
    "train_data['prediction'] = train_data.apply(def_outlier, axis = 1)\n",
    "train_data['y_scores'] = -y_scores"
   ]
  },
  {
   "cell_type": "code",
   "execution_count": null,
   "id": "bf971466",
   "metadata": {},
   "outputs": [],
   "source": [
    "fpr, tpr, _ = metrics.roc_curve(train_data['y'], train_data['y_scores'])\n",
    "forestcover_lof_auc = metrics.auc(fpr, tpr)\n",
    "metrics.auc(fpr, tpr)"
   ]
  },
  {
   "cell_type": "code",
   "execution_count": null,
   "id": "bf245e34",
   "metadata": {},
   "outputs": [],
   "source": [
    "forestcover_lof_report = classification_report(train_data['y'], train_data['prediction'], target_names = ['0','1'], output_dict = True)\n",
    "print(classification_report(train_data['y'], train_data['prediction'], target_names = ['0','1']))"
   ]
  },
  {
   "cell_type": "code",
   "execution_count": null,
   "id": "844785a4",
   "metadata": {},
   "outputs": [],
   "source": [
    "precision, recall, thresholds = precision_recall_curve(train_data['y'], train_data['y_scores'])\n",
    "forestcover_lof_auc_precision_recall = metrics.auc(recall, precision)\n",
    "print(forestcover_lof_auc_precision_recall)"
   ]
  },
  {
   "cell_type": "code",
   "execution_count": null,
   "id": "0760e84a",
   "metadata": {},
   "outputs": [],
   "source": [
    "forestcover_lof_y = train_data['prediction']"
   ]
  },
  {
   "cell_type": "markdown",
   "id": "e8c362ba",
   "metadata": {},
   "source": [
    "## Annthyroid"
   ]
  },
  {
   "cell_type": "code",
   "execution_count": null,
   "id": "84e53d03",
   "metadata": {},
   "outputs": [],
   "source": [
    "min_max_scaler = MinMaxScaler(feature_range=(0, 1))\n",
    "train_data = min_max_scaler.fit_transform(annthyroid_data.copy())\n",
    "train_data = pd.DataFrame(train_data)\n",
    "train_data.columns = annthyroid_data.columns"
   ]
  },
  {
   "cell_type": "code",
   "execution_count": null,
   "id": "50e13b92",
   "metadata": {},
   "outputs": [],
   "source": [
    "start = time.process_time()\n",
    "\n",
    "lof = LocalOutlierFactor(n_neighbors=72, contamination=.1, novelty=False)\n",
    "y_pred = lof.fit_predict(train_data.loc[:, train_data.columns != 'y'])\n",
    "y_scores = lof.negative_outlier_factor_\n",
    "\n",
    "end = time.process_time()\n",
    "annthyroid_lof_time = end - start\n",
    "print(end - start)"
   ]
  },
  {
   "cell_type": "code",
   "execution_count": null,
   "id": "13f3cec4",
   "metadata": {},
   "outputs": [],
   "source": [
    "train_data['y_pred'] = y_pred\n",
    "train_data['prediction'] = train_data.apply(def_outlier, axis = 1)\n",
    "train_data['y_scores'] = -y_scores"
   ]
  },
  {
   "cell_type": "code",
   "execution_count": null,
   "id": "f3d1b31d",
   "metadata": {},
   "outputs": [],
   "source": [
    "fpr, tpr, _ = metrics.roc_curve(train_data['y'], train_data['y_scores'])\n",
    "annthyroid_lof_auc = metrics.auc(fpr, tpr)\n",
    "metrics.auc(fpr, tpr)"
   ]
  },
  {
   "cell_type": "code",
   "execution_count": null,
   "id": "68538c7e",
   "metadata": {},
   "outputs": [],
   "source": [
    "annthyroid_lof_report = classification_report(train_data['y'], train_data['prediction'], target_names = ['0','1'], output_dict = True)\n",
    "print(classification_report(train_data['y'], train_data['prediction'], target_names = ['0','1']))"
   ]
  },
  {
   "cell_type": "code",
   "execution_count": null,
   "id": "ca7029ea",
   "metadata": {},
   "outputs": [],
   "source": [
    "precision, recall, thresholds = precision_recall_curve(train_data['y'], train_data['y_scores'])\n",
    "annthyroid_lof_auc_precision_recall = metrics.auc(recall, precision)\n",
    "print(annthyroid_lof_auc_precision_recall)"
   ]
  },
  {
   "cell_type": "code",
   "execution_count": null,
   "id": "69ab6d48",
   "metadata": {},
   "outputs": [],
   "source": [
    "annthyroid_lof_y = train_data['prediction']"
   ]
  },
  {
   "cell_type": "markdown",
   "id": "3f6cb246",
   "metadata": {},
   "source": [
    "## Credit card"
   ]
  },
  {
   "cell_type": "code",
   "execution_count": null,
   "id": "8a859ee8",
   "metadata": {},
   "outputs": [],
   "source": [
    "min_max_scaler = MinMaxScaler(feature_range=(0, 1))\n",
    "train_data = min_max_scaler.fit_transform(creditcard_data.copy())\n",
    "train_data = pd.DataFrame(train_data)\n",
    "train_data.columns = creditcard_data.columns"
   ]
  },
  {
   "cell_type": "code",
   "execution_count": null,
   "id": "773c3a73",
   "metadata": {},
   "outputs": [],
   "source": [
    "start = time.process_time()\n",
    "\n",
    "lof = LocalOutlierFactor(n_neighbors=2848, contamination=.1, novelty=False)\n",
    "y_pred = lof.fit_predict(train_data.loc[:, train_data.columns != 'Class'])\n",
    "y_scores = lof.negative_outlier_factor_\n",
    "\n",
    "end = time.process_time()\n",
    "creditcard_lof_time = end - start\n",
    "print(end - start)"
   ]
  },
  {
   "cell_type": "code",
   "execution_count": null,
   "id": "c631a5ac",
   "metadata": {},
   "outputs": [],
   "source": [
    "train_data['y_pred'] = y_pred\n",
    "train_data['prediction'] = train_data.apply(def_outlier, axis = 1)\n",
    "train_data['y_scores'] = -y_scores"
   ]
  },
  {
   "cell_type": "code",
   "execution_count": null,
   "id": "0f6c6cee",
   "metadata": {},
   "outputs": [],
   "source": [
    "fpr, tpr, _ = metrics.roc_curve(train_data['Class'], train_data['y_scores'])\n",
    "creditcard_lof_auc = metrics.auc(fpr, tpr)\n",
    "metrics.auc(fpr, tpr)"
   ]
  },
  {
   "cell_type": "code",
   "execution_count": null,
   "id": "d4457415",
   "metadata": {},
   "outputs": [],
   "source": [
    "creditcard_lof_report = classification_report(train_data['Class'], train_data['prediction'], target_names = ['0','1'], output_dict = True)\n",
    "print(classification_report(train_data['Class'], train_data['prediction'], target_names = ['0','1']))"
   ]
  },
  {
   "cell_type": "code",
   "execution_count": null,
   "id": "0eb61495",
   "metadata": {},
   "outputs": [],
   "source": [
    "precision, recall, thresholds = precision_recall_curve(train_data['Class'], train_data['y_scores'])\n",
    "creditcard_lof_auc_precision_recall = metrics.auc(recall, precision)\n",
    "print(creditcard_lof_auc_precision_recall)"
   ]
  },
  {
   "cell_type": "code",
   "execution_count": null,
   "id": "53c38b27",
   "metadata": {},
   "outputs": [],
   "source": [
    "creditcard_lof_y = train_data['prediction']"
   ]
  },
  {
   "cell_type": "markdown",
   "id": "6f3f1c54",
   "metadata": {},
   "source": [
    "## Mammography"
   ]
  },
  {
   "cell_type": "code",
   "execution_count": null,
   "id": "6eb2bfd9",
   "metadata": {},
   "outputs": [],
   "source": [
    "min_max_scaler = MinMaxScaler(feature_range=(0, 1))\n",
    "train_data = min_max_scaler.fit_transform(mammography_data.copy())\n",
    "train_data = pd.DataFrame(train_data)\n",
    "train_data.columns = mammography_data.columns"
   ]
  },
  {
   "cell_type": "code",
   "execution_count": null,
   "id": "682fff42",
   "metadata": {},
   "outputs": [],
   "source": [
    "start = time.process_time()\n",
    "\n",
    "lof = LocalOutlierFactor(n_neighbors=111, contamination=.1, novelty=False)\n",
    "y_pred = lof.fit_predict(train_data.loc[:, train_data.columns != 'y'])\n",
    "y_scores = lof.negative_outlier_factor_\n",
    "\n",
    "end = time.process_time()\n",
    "mammography_lof_time = end - start\n",
    "print(end - start)"
   ]
  },
  {
   "cell_type": "code",
   "execution_count": null,
   "id": "439b7b64",
   "metadata": {},
   "outputs": [],
   "source": [
    "train_data['y_pred'] = y_pred\n",
    "train_data['prediction'] = train_data.apply(def_outlier, axis = 1)\n",
    "train_data['y_scores'] = -y_scores"
   ]
  },
  {
   "cell_type": "code",
   "execution_count": null,
   "id": "7cef4e36",
   "metadata": {},
   "outputs": [],
   "source": [
    "fpr, tpr, _ = metrics.roc_curve(train_data['y'], train_data['y_scores'])\n",
    "mammography_lof_auc = metrics.auc(fpr, tpr)\n",
    "metrics.auc(fpr, tpr)"
   ]
  },
  {
   "cell_type": "code",
   "execution_count": null,
   "id": "12ae5f5a",
   "metadata": {},
   "outputs": [],
   "source": [
    "mammography_lof_report = classification_report(train_data['y'], train_data['prediction'], target_names = ['0','1'], output_dict = True)\n",
    "print(classification_report(train_data['y'], train_data['prediction'], target_names = ['0','1']))"
   ]
  },
  {
   "cell_type": "code",
   "execution_count": null,
   "id": "9f11d6f8",
   "metadata": {},
   "outputs": [],
   "source": [
    "precision, recall, thresholds = precision_recall_curve(train_data['y'], train_data['y_scores'])\n",
    "mammography_lof_auc_precision_recall = metrics.auc(recall, precision)\n",
    "print(mammography_lof_auc_precision_recall)"
   ]
  },
  {
   "cell_type": "code",
   "execution_count": null,
   "id": "a2d563e0",
   "metadata": {},
   "outputs": [],
   "source": [
    "mammography_lof_y = train_data['prediction']"
   ]
  },
  {
   "cell_type": "markdown",
   "id": "6123783a",
   "metadata": {},
   "source": [
    "## Shuttle"
   ]
  },
  {
   "cell_type": "code",
   "execution_count": null,
   "id": "e6302b45",
   "metadata": {},
   "outputs": [],
   "source": [
    "min_max_scaler = MinMaxScaler(feature_range=(0, 1))\n",
    "train_data = min_max_scaler.fit_transform(shuttle_data.copy())\n",
    "train_data = pd.DataFrame(train_data)\n",
    "train_data.columns = shuttle_data.columns"
   ]
  },
  {
   "cell_type": "code",
   "execution_count": null,
   "id": "5de0e42a",
   "metadata": {},
   "outputs": [],
   "source": [
    "start = time.process_time()\n",
    "\n",
    "lof = LocalOutlierFactor(n_neighbors=491, contamination=.1, novelty=False)\n",
    "y_pred = lof.fit_predict(train_data.loc[:, train_data.columns != 'y'])\n",
    "y_scores = lof.negative_outlier_factor_\n",
    "\n",
    "end = time.process_time()\n",
    "shuttle_lof_time = end - start\n",
    "print(end - start)"
   ]
  },
  {
   "cell_type": "code",
   "execution_count": null,
   "id": "5af538a0",
   "metadata": {},
   "outputs": [],
   "source": [
    "train_data['y_pred'] = y_pred\n",
    "train_data['prediction'] = train_data.apply(def_outlier, axis = 1)\n",
    "train_data['y_scores'] = -y_scores"
   ]
  },
  {
   "cell_type": "code",
   "execution_count": null,
   "id": "1665259a",
   "metadata": {},
   "outputs": [],
   "source": [
    "fpr, tpr, _ = metrics.roc_curve(train_data['y'], train_data['y_scores'])\n",
    "shuttle_lof_auc = metrics.auc(fpr, tpr)\n",
    "metrics.auc(fpr, tpr)"
   ]
  },
  {
   "cell_type": "code",
   "execution_count": null,
   "id": "62051686",
   "metadata": {},
   "outputs": [],
   "source": [
    "shuttle_lof_report = classification_report(train_data['y'], train_data['prediction'], target_names = ['0','1'], output_dict = True)\n",
    "print(classification_report(train_data['y'], train_data['prediction'], target_names = ['0','1']))"
   ]
  },
  {
   "cell_type": "code",
   "execution_count": null,
   "id": "f55f061a",
   "metadata": {},
   "outputs": [],
   "source": [
    "precision, recall, thresholds = precision_recall_curve(train_data['y'], train_data['y_scores'])\n",
    "shuttle_lof_auc_precision_recall = metrics.auc(recall, precision)\n",
    "print(shuttle_lof_auc_precision_recall)"
   ]
  },
  {
   "cell_type": "code",
   "execution_count": null,
   "id": "4571a29b",
   "metadata": {},
   "outputs": [],
   "source": [
    "shuttle_lof_y = train_data['prediction']"
   ]
  },
  {
   "cell_type": "markdown",
   "id": "128f6f9b",
   "metadata": {},
   "source": [
    "## Mnist"
   ]
  },
  {
   "cell_type": "code",
   "execution_count": null,
   "id": "56d7c902",
   "metadata": {},
   "outputs": [],
   "source": [
    "min_max_scaler = MinMaxScaler(feature_range=(0, 1))\n",
    "train_data = min_max_scaler.fit_transform(mnist_data.copy())\n",
    "train_data = pd.DataFrame(train_data)\n",
    "train_data.columns = mnist_data.columns"
   ]
  },
  {
   "cell_type": "code",
   "execution_count": null,
   "id": "a949a755",
   "metadata": {},
   "outputs": [],
   "source": [
    "start = time.process_time()\n",
    "\n",
    "lof = LocalOutlierFactor(n_neighbors=76, contamination=.1, novelty=False)\n",
    "y_pred = lof.fit_predict(train_data.loc[:, train_data.columns != 'y'])\n",
    "y_scores = lof.negative_outlier_factor_\n",
    "\n",
    "end = time.process_time()\n",
    "mnist_lof_time = end - start\n",
    "print(end - start)"
   ]
  },
  {
   "cell_type": "code",
   "execution_count": null,
   "id": "eb7ce200",
   "metadata": {},
   "outputs": [],
   "source": [
    "train_data['y_pred'] = y_pred\n",
    "train_data['prediction'] = train_data.apply(def_outlier, axis = 1)\n",
    "train_data['y_scores'] = -y_scores"
   ]
  },
  {
   "cell_type": "code",
   "execution_count": null,
   "id": "530cb002",
   "metadata": {},
   "outputs": [],
   "source": [
    "fpr, tpr, _ = metrics.roc_curve(train_data['y'], train_data['y_scores'])\n",
    "mnist_lof_auc = metrics.auc(fpr, tpr)\n",
    "metrics.auc(fpr, tpr)"
   ]
  },
  {
   "cell_type": "code",
   "execution_count": null,
   "id": "f124b0e6",
   "metadata": {},
   "outputs": [],
   "source": [
    "mnist_lof_report = classification_report(train_data['y'], train_data['prediction'], target_names = ['0','1'], output_dict = True)\n",
    "print(classification_report(train_data['y'], train_data['prediction'], target_names = ['0','1']))"
   ]
  },
  {
   "cell_type": "code",
   "execution_count": null,
   "id": "6600a095",
   "metadata": {},
   "outputs": [],
   "source": [
    "precision, recall, thresholds = precision_recall_curve(train_data['y'], train_data['y_scores'])\n",
    "mnist_lof_auc_precision_recall = metrics.auc(recall, precision)\n",
    "print(mnist_lof_auc_precision_recall)"
   ]
  },
  {
   "cell_type": "code",
   "execution_count": null,
   "id": "179b9501",
   "metadata": {},
   "outputs": [],
   "source": [
    "mnist_lof_y = train_data['prediction']"
   ]
  },
  {
   "cell_type": "markdown",
   "id": "2de47aec",
   "metadata": {},
   "source": [
    "## Vowels"
   ]
  },
  {
   "cell_type": "code",
   "execution_count": null,
   "id": "13fa278a",
   "metadata": {},
   "outputs": [],
   "source": [
    "min_max_scaler = MinMaxScaler(feature_range=(0, 1))\n",
    "train_data = min_max_scaler.fit_transform(vowels_data.copy())\n",
    "train_data = pd.DataFrame(train_data)\n",
    "train_data.columns = vowels_data.columns"
   ]
  },
  {
   "cell_type": "code",
   "execution_count": null,
   "id": "6309b9da",
   "metadata": {},
   "outputs": [],
   "source": [
    "start = time.process_time()\n",
    "\n",
    "lof = LocalOutlierFactor(n_neighbors=15, contamination=.1, novelty=False)\n",
    "y_pred = lof.fit_predict(train_data.loc[:, train_data.columns != 'y'])\n",
    "y_scores = lof.negative_outlier_factor_\n",
    "\n",
    "end = time.process_time()\n",
    "vowels_lof_time = end - start\n",
    "print(end - start)"
   ]
  },
  {
   "cell_type": "code",
   "execution_count": null,
   "id": "23e783f6",
   "metadata": {},
   "outputs": [],
   "source": [
    "train_data['y_pred'] = y_pred\n",
    "train_data['prediction'] = train_data.apply(def_outlier, axis = 1)\n",
    "train_data['y_scores'] = -y_scores"
   ]
  },
  {
   "cell_type": "code",
   "execution_count": null,
   "id": "24bf9ddc",
   "metadata": {},
   "outputs": [],
   "source": [
    "fpr, tpr, _ = metrics.roc_curve(train_data['y'], train_data['y_scores'])\n",
    "vowels_lof_auc = metrics.auc(fpr, tpr)\n",
    "metrics.auc(fpr, tpr)"
   ]
  },
  {
   "cell_type": "code",
   "execution_count": null,
   "id": "5b088591",
   "metadata": {},
   "outputs": [],
   "source": [
    "vowels_lof_report = classification_report(train_data['y'], train_data['prediction'], target_names = ['0','1'], output_dict = True)\n",
    "print(classification_report(train_data['y'], train_data['prediction'], target_names = ['0','1']))"
   ]
  },
  {
   "cell_type": "code",
   "execution_count": null,
   "id": "19c363ad",
   "metadata": {},
   "outputs": [],
   "source": [
    "precision, recall, thresholds = precision_recall_curve(train_data['y'], train_data['y_scores'])\n",
    "vowels_lof_auc_precision_recall = metrics.auc(recall, precision)\n",
    "print(vowels_lof_auc_precision_recall)"
   ]
  },
  {
   "cell_type": "code",
   "execution_count": null,
   "id": "0dcdffa4",
   "metadata": {},
   "outputs": [],
   "source": [
    "vowels_lof_y = train_data['prediction']"
   ]
  },
  {
   "cell_type": "markdown",
   "id": "0d285ddb",
   "metadata": {},
   "source": [
    "## Seismic"
   ]
  },
  {
   "cell_type": "code",
   "execution_count": null,
   "id": "b3b285a4",
   "metadata": {},
   "outputs": [],
   "source": [
    "min_max_scaler = MinMaxScaler(feature_range=(0, 1))\n",
    "train_data = min_max_scaler.fit_transform(seismic_data.copy())\n",
    "train_data = pd.DataFrame(train_data)\n",
    "train_data.columns = seismic_data.columns"
   ]
  },
  {
   "cell_type": "code",
   "execution_count": null,
   "id": "253e9a84",
   "metadata": {},
   "outputs": [],
   "source": [
    "start = time.process_time()\n",
    "lof = LocalOutlierFactor(n_neighbors=26, contamination=.1)\n",
    "y_pred = lof.fit_predict(train_data.loc[:, train_data.columns != 'class'])\n",
    "y_scores = lof.negative_outlier_factor_\n",
    "end = time.process_time()\n",
    "seismic_lof_time = end - start\n",
    "print(end - start)"
   ]
  },
  {
   "cell_type": "code",
   "execution_count": null,
   "id": "70707c41",
   "metadata": {},
   "outputs": [],
   "source": [
    "train_data['y_pred'] = y_pred\n",
    "train_data['prediction'] = train_data.apply(def_outlier, axis = 1)\n",
    "train_data['y_scores'] = -y_scores"
   ]
  },
  {
   "cell_type": "code",
   "execution_count": null,
   "id": "5346bbe5",
   "metadata": {},
   "outputs": [],
   "source": [
    "fpr, tpr, _ = metrics.roc_curve(train_data['class'], train_data['y_scores'])\n",
    "seismic_lof_auc = metrics.auc(fpr, tpr)\n",
    "metrics.auc(fpr, tpr)"
   ]
  },
  {
   "cell_type": "code",
   "execution_count": null,
   "id": "36aa5e3c",
   "metadata": {},
   "outputs": [],
   "source": [
    "seismic_lof_report = classification_report(train_data['class'], train_data['prediction'], target_names = ['0','1'], output_dict=True)\n",
    "print(classification_report(train_data['class'], train_data['prediction'], target_names = ['0','1']))"
   ]
  },
  {
   "cell_type": "code",
   "execution_count": null,
   "id": "29a93203",
   "metadata": {},
   "outputs": [],
   "source": [
    "precision, recall, thresholds = precision_recall_curve(train_data['class'], train_data['y_scores'])\n",
    "seismic_lof_auc_precision_recall = metrics.auc(recall, precision)\n",
    "print(seismic_lof_auc_precision_recall)"
   ]
  },
  {
   "cell_type": "code",
   "execution_count": null,
   "id": "2b7ed7d2",
   "metadata": {},
   "outputs": [],
   "source": [
    "seismic_lof_y = train_data['prediction']"
   ]
  },
  {
   "cell_type": "markdown",
   "id": "4a52501c",
   "metadata": {},
   "source": [
    "## Musk"
   ]
  },
  {
   "cell_type": "code",
   "execution_count": null,
   "id": "7dc820e7",
   "metadata": {},
   "outputs": [],
   "source": [
    "min_max_scaler = MinMaxScaler(feature_range=(0, 1))\n",
    "train_data = min_max_scaler.fit_transform(musk_data.copy())\n",
    "train_data = pd.DataFrame(train_data)\n",
    "train_data.columns = musk_data.columns"
   ]
  },
  {
   "cell_type": "code",
   "execution_count": null,
   "id": "23e5aa1e",
   "metadata": {},
   "outputs": [],
   "source": [
    "start = time.process_time()\n",
    "lof = LocalOutlierFactor(n_neighbors=31, contamination=.1)\n",
    "y_pred = lof.fit_predict(train_data.loc[:, train_data.columns != 'y'])\n",
    "y_scores = lof.negative_outlier_factor_\n",
    "end = time.process_time()\n",
    "musk_lof_time = end - start\n",
    "print(end - start)"
   ]
  },
  {
   "cell_type": "code",
   "execution_count": null,
   "id": "9eb7789c",
   "metadata": {},
   "outputs": [],
   "source": [
    "train_data['y_pred'] = y_pred\n",
    "train_data['prediction'] = train_data.apply(def_outlier, axis = 1)\n",
    "train_data['y_scores'] = -y_scores"
   ]
  },
  {
   "cell_type": "code",
   "execution_count": null,
   "id": "29ebe14a",
   "metadata": {},
   "outputs": [],
   "source": [
    "fpr, tpr, _ = metrics.roc_curve(train_data['y'], train_data['y_scores'])\n",
    "musk_lof_auc = metrics.auc(fpr, tpr)\n",
    "metrics.auc(fpr, tpr)"
   ]
  },
  {
   "cell_type": "code",
   "execution_count": null,
   "id": "f8801216",
   "metadata": {},
   "outputs": [],
   "source": [
    "musk_lof_report = classification_report(train_data['y'], train_data['prediction'], target_names = ['0','1'], output_dict=True)\n",
    "print(classification_report(train_data['y'], train_data['prediction'], target_names = ['0','1']))"
   ]
  },
  {
   "cell_type": "code",
   "execution_count": null,
   "id": "b61efb6c",
   "metadata": {},
   "outputs": [],
   "source": [
    "precision, recall, thresholds = precision_recall_curve(train_data['y'], train_data['y_scores'])\n",
    "musk_lof_auc_precision_recall = metrics.auc(recall, precision)\n",
    "print(musk_lof_auc_precision_recall)"
   ]
  },
  {
   "cell_type": "code",
   "execution_count": null,
   "id": "0c338fd9",
   "metadata": {},
   "outputs": [],
   "source": [
    "musk_lof_y = train_data['prediction']"
   ]
  },
  {
   "cell_type": "markdown",
   "id": "0efda07a",
   "metadata": {},
   "source": [
    "## Bank"
   ]
  },
  {
   "cell_type": "code",
   "execution_count": null,
   "id": "164f0311",
   "metadata": {},
   "outputs": [],
   "source": [
    "min_max_scaler = MinMaxScaler(feature_range=(0, 1))\n",
    "train_data = min_max_scaler.fit_transform(bank_data.copy())\n",
    "train_data = pd.DataFrame(train_data)\n",
    "train_data.columns = bank_data.columns"
   ]
  },
  {
   "cell_type": "code",
   "execution_count": null,
   "id": "392da07e",
   "metadata": {},
   "outputs": [],
   "source": [
    "start = time.process_time()\n",
    "lof = LocalOutlierFactor(n_neighbors=412, contamination=.1)\n",
    "y_pred = lof.fit_predict(train_data.loc[:, train_data.columns != 'class'])\n",
    "y_scores = lof.negative_outlier_factor_\n",
    "end = time.process_time()\n",
    "bank_lof_time = end - start\n",
    "print(end - start)"
   ]
  },
  {
   "cell_type": "code",
   "execution_count": null,
   "id": "356e6205",
   "metadata": {},
   "outputs": [],
   "source": [
    "train_data['y_pred'] = y_pred\n",
    "train_data['prediction'] = train_data.apply(def_outlier, axis = 1)\n",
    "train_data['y_scores'] = -y_scores"
   ]
  },
  {
   "cell_type": "code",
   "execution_count": null,
   "id": "58eac8c7",
   "metadata": {},
   "outputs": [],
   "source": [
    "fpr, tpr, _ = metrics.roc_curve(train_data['class'], train_data['y_scores'])\n",
    "bank_lof_auc = metrics.auc(fpr, tpr)\n",
    "metrics.auc(fpr, tpr)"
   ]
  },
  {
   "cell_type": "code",
   "execution_count": null,
   "id": "4343b521",
   "metadata": {},
   "outputs": [],
   "source": [
    "bank_lof_report = classification_report(train_data['class'], train_data['prediction'], target_names = ['0','1'], output_dict=True)\n",
    "print(classification_report(train_data['class'], train_data['prediction'], target_names = ['0','1']))"
   ]
  },
  {
   "cell_type": "code",
   "execution_count": null,
   "id": "60f5d71a",
   "metadata": {},
   "outputs": [],
   "source": [
    "precision, recall, thresholds = precision_recall_curve(train_data['class'], train_data['y_scores'])\n",
    "bank_lof_auc_precision_recall = metrics.auc(recall, precision)\n",
    "print(bank_lof_auc_precision_recall)"
   ]
  },
  {
   "cell_type": "code",
   "execution_count": null,
   "id": "c2b23d01",
   "metadata": {},
   "outputs": [],
   "source": [
    "bank_lof_y = train_data['prediction']"
   ]
  },
  {
   "cell_type": "markdown",
   "id": "b7057d4d",
   "metadata": {},
   "source": [
    "# DBSCAN"
   ]
  },
  {
   "cell_type": "markdown",
   "id": "e431353a",
   "metadata": {},
   "source": [
    "## Arrhythmia"
   ]
  },
  {
   "cell_type": "code",
   "execution_count": null,
   "id": "e59268b9",
   "metadata": {},
   "outputs": [],
   "source": [
    "min_max_scaler = MinMaxScaler(feature_range=(0, 1))\n",
    "train_data = min_max_scaler.fit_transform(arrhythmia_data.copy())\n",
    "train_data = pd.DataFrame(train_data)\n",
    "train_data.columns = arrhythmia_data.columns"
   ]
  },
  {
   "cell_type": "code",
   "execution_count": null,
   "id": "7a49825a",
   "metadata": {},
   "outputs": [],
   "source": [
    "dist = dbscan_tuner(train_data,25)"
   ]
  },
  {
   "cell_type": "code",
   "execution_count": null,
   "id": "ddd46139",
   "metadata": {},
   "outputs": [],
   "source": [
    "start = time.process_time()\n",
    "dbscan = DBSCAN(eps = 2.5, min_samples = 40)\n",
    "clusters = dbscan.fit_predict(train_data.loc[:, train_data.columns != 'y'])\n",
    "\n",
    "end = time.process_time()\n",
    "arrhythmia_dbscan_time = end - start\n",
    "print(end - start)"
   ]
  },
  {
   "cell_type": "code",
   "execution_count": null,
   "id": "daa64b1d",
   "metadata": {},
   "outputs": [],
   "source": [
    "train_data['y_pred'] = clusters\n",
    "train_data['prediction'] = train_data.apply(def_outlier, axis = 1)"
   ]
  },
  {
   "cell_type": "code",
   "execution_count": null,
   "id": "fadba517",
   "metadata": {},
   "outputs": [],
   "source": [
    "original_columns = arrhythmia_data.columns.to_list()\n",
    "original_columns.remove('y')\n",
    "\n",
    "data_w_score = pd.DataFrame(columns = train_data.columns.to_list())\n",
    "data_w_score['score'] = pd.NaT\n",
    "for i in set(clusters):\n",
    "    if i == -1:\n",
    "        continue\n",
    "    score_data = train_data[train_data['y_pred'] == i].copy()\n",
    "    center = score_data[original_columns].mean().to_list()\n",
    "    score_data['score'] = score_data.apply(lambda x : distance.euclidean(x[original_columns].to_list(), center),1)\n",
    "    data_w_score = data_w_score.append(score_data.copy(), ignore_index = True)\n",
    "\n",
    "anomalies_data = train_data[train_data['y_pred'] == -1].copy()\n",
    "anomalies_data['score'] = ''\n",
    "cluster_centers = pd.pivot_table(train_data,\n",
    "              index = 'y_pred',\n",
    "              aggfunc = 'mean')\n",
    "\n",
    "for i in range(len(anomalies_data)):\n",
    "    anomalies_data['score'].iloc[i] = np.min(cluster_centers[cluster_centers.index != -1].apply(lambda x : \n",
    "                                                                                                distance.euclidean(x[original_columns].to_list(), anomalies_data[original_columns].iloc[i]),1))\n",
    "\n",
    "data_for_auprc = pd.concat([data_w_score, anomalies_data])"
   ]
  },
  {
   "cell_type": "code",
   "execution_count": null,
   "id": "734e4746",
   "metadata": {},
   "outputs": [],
   "source": [
    "fpr, tpr, _ = metrics.roc_curve(data_for_auprc['y'], data_for_auprc['score'])\n",
    "arrhythmia_dbscan_auc = metrics.auc(fpr, tpr)\n",
    "metrics.auc(fpr, tpr)"
   ]
  },
  {
   "cell_type": "code",
   "execution_count": null,
   "id": "b10cf30b",
   "metadata": {},
   "outputs": [],
   "source": [
    "arrhythmia_dbscan_report = classification_report(train_data['y'], train_data['prediction'], target_names = ['0','1'], output_dict=True)\n",
    "print(classification_report(train_data['y'], train_data['prediction'], target_names = ['0','1']))"
   ]
  },
  {
   "cell_type": "code",
   "execution_count": null,
   "id": "8e7c7532",
   "metadata": {},
   "outputs": [],
   "source": [
    "precision, recall, thresholds = precision_recall_curve(data_for_auprc['y'], data_for_auprc['score'])\n",
    "arrhythmia_dbscan_auc_precision_recall = metrics.auc(recall, precision)\n",
    "print(arrhythmia_dbscan_auc_precision_recall)"
   ]
  },
  {
   "cell_type": "code",
   "execution_count": null,
   "id": "c0e45567",
   "metadata": {},
   "outputs": [],
   "source": [
    "arrhythmia_dbscan_y = train_data['prediction']"
   ]
  },
  {
   "cell_type": "markdown",
   "id": "fe79007f",
   "metadata": {},
   "source": [
    "## Cardiocotography"
   ]
  },
  {
   "cell_type": "code",
   "execution_count": null,
   "id": "1eeaa994",
   "metadata": {},
   "outputs": [],
   "source": [
    "min_max_scaler = MinMaxScaler(feature_range=(0, 1))\n",
    "train_data = min_max_scaler.fit_transform(cardiocotography_data.copy())\n",
    "train_data = pd.DataFrame(train_data)\n",
    "train_data.columns = cardiocotography_data.columns"
   ]
  },
  {
   "cell_type": "code",
   "execution_count": null,
   "id": "94f016ee",
   "metadata": {},
   "outputs": [],
   "source": [
    "dist = dbscan_tuner(train_data,41)"
   ]
  },
  {
   "cell_type": "code",
   "execution_count": null,
   "id": "89956f65",
   "metadata": {},
   "outputs": [],
   "source": [
    "start = time.process_time()\n",
    "dbscan = DBSCAN(eps = 0.7, min_samples = 42)\n",
    "clusters = dbscan.fit_predict(train_data.loc[:, train_data.columns != 'y'])\n",
    "end = time.process_time()\n",
    "cardiocotography_dbscan_time = end - start\n",
    "print(end - start)"
   ]
  },
  {
   "cell_type": "code",
   "execution_count": null,
   "id": "3bb717ad",
   "metadata": {},
   "outputs": [],
   "source": [
    "train_data['y_pred'] = clusters\n",
    "train_data['prediction'] = train_data.apply(def_outlier, axis = 1)"
   ]
  },
  {
   "cell_type": "code",
   "execution_count": null,
   "id": "c95acc93",
   "metadata": {},
   "outputs": [],
   "source": [
    "original_columns = cardiocotography_data.columns.to_list()\n",
    "original_columns.remove('y')\n",
    "\n",
    "data_w_score = pd.DataFrame(columns = train_data.columns.to_list())\n",
    "data_w_score['score'] = pd.NaT\n",
    "for i in set(clusters):\n",
    "    if i == -1:\n",
    "        continue\n",
    "    score_data = train_data[train_data['y_pred'] == i].copy()\n",
    "    center = score_data[original_columns].mean().to_list()\n",
    "    score_data['score'] = score_data.apply(lambda x : distance.euclidean(x[original_columns].to_list(), center),1)\n",
    "    data_w_score = data_w_score.append(score_data.copy(), ignore_index = True)\n",
    "\n",
    "anomalies_data = train_data[train_data['y_pred'] == -1].copy()\n",
    "anomalies_data['score'] = ''\n",
    "cluster_centers = pd.pivot_table(train_data,\n",
    "              index = 'y_pred',\n",
    "              aggfunc = 'mean')\n",
    "\n",
    "for i in range(len(anomalies_data)):\n",
    "    anomalies_data['score'].iloc[i] = np.min(cluster_centers[cluster_centers.index != -1].apply(lambda x : \n",
    "                                                                                                distance.euclidean(x[original_columns].to_list(), anomalies_data[original_columns].iloc[i]),1))\n",
    "\n",
    "data_for_auprc = pd.concat([data_w_score, anomalies_data])"
   ]
  },
  {
   "cell_type": "code",
   "execution_count": null,
   "id": "7f090c90",
   "metadata": {},
   "outputs": [],
   "source": [
    "fpr, tpr, _ = metrics.roc_curve(data_for_auprc['y'], data_for_auprc['score'])\n",
    "cardiocotography_dbscan_auc = metrics.auc(fpr, tpr)\n",
    "metrics.auc(fpr, tpr)"
   ]
  },
  {
   "cell_type": "code",
   "execution_count": null,
   "id": "3022af9e",
   "metadata": {},
   "outputs": [],
   "source": [
    "cardiocotography_dbscan_report = classification_report(train_data['y'], train_data['prediction'], target_names = ['0','1'], output_dict = True)\n",
    "print(classification_report(train_data['y'], train_data['prediction'], target_names = ['0','1']))"
   ]
  },
  {
   "cell_type": "code",
   "execution_count": null,
   "id": "97eff6e3",
   "metadata": {},
   "outputs": [],
   "source": [
    "precision, recall, thresholds = precision_recall_curve(data_for_auprc['y'], data_for_auprc['score'])\n",
    "cardiocotography_dbscan_auc_precision_recall = metrics.auc(recall, precision)\n",
    "print(cardiocotography_dbscan_auc_precision_recall)"
   ]
  },
  {
   "cell_type": "code",
   "execution_count": null,
   "id": "e998f3ce",
   "metadata": {},
   "outputs": [],
   "source": [
    "cardio_dbscan_y = train_data['prediction']"
   ]
  },
  {
   "cell_type": "markdown",
   "id": "e44344cf",
   "metadata": {},
   "source": [
    "## ForestCover"
   ]
  },
  {
   "cell_type": "code",
   "execution_count": null,
   "id": "9b35e07c",
   "metadata": {},
   "outputs": [],
   "source": [
    "min_max_scaler = MinMaxScaler(feature_range=(0, 1))\n",
    "train_data = min_max_scaler.fit_transform(forestcover_data.copy())\n",
    "train_data = pd.DataFrame(train_data)\n",
    "train_data.columns = forestcover_data.columns"
   ]
  },
  {
   "cell_type": "code",
   "execution_count": null,
   "id": "b891f15a",
   "metadata": {},
   "outputs": [],
   "source": [
    "data_dbscan = train_data.sample(frac=0.1)\n",
    "dist = dbscan_tuner(data_dbscan ,19)"
   ]
  },
  {
   "cell_type": "code",
   "execution_count": null,
   "id": "9e00c493",
   "metadata": {},
   "outputs": [],
   "source": [
    "start = time.process_time()\n",
    "dbscan = DBSCAN(eps = 0.1, min_samples = 20)\n",
    "clusters = dbscan.fit_predict(train_data.loc[:, train_data.columns != 'y'])\n",
    "end = time.process_time()\n",
    "forestcover_dbscan_time = end - start\n",
    "print(end - start)"
   ]
  },
  {
   "cell_type": "code",
   "execution_count": null,
   "id": "a4cbccdc",
   "metadata": {},
   "outputs": [],
   "source": [
    "train_data['y_pred'] = clusters\n",
    "train_data['prediction'] = train_data.apply(def_outlier, axis = 1)"
   ]
  },
  {
   "cell_type": "code",
   "execution_count": null,
   "id": "ce9fe414",
   "metadata": {},
   "outputs": [],
   "source": [
    "original_columns = forestcover_data.columns.to_list()\n",
    "original_columns.remove('y')\n",
    "\n",
    "data_w_score = pd.DataFrame(columns = train_data.columns.to_list())\n",
    "data_w_score['score'] = pd.NaT\n",
    "for i in set(clusters):\n",
    "    if i == -1:\n",
    "        continue\n",
    "    score_data = train_data[train_data['y_pred'] == i].copy()\n",
    "    center = score_data[original_columns].mean().to_list()\n",
    "    score_data['score'] = score_data.apply(lambda x : distance.euclidean(x[original_columns].to_list(), center),1)\n",
    "    data_w_score = data_w_score.append(score_data.copy(), ignore_index = True)\n",
    "\n",
    "anomalies_data = train_data[train_data['y_pred'] == -1].copy()\n",
    "anomalies_data['score'] = ''\n",
    "cluster_centers = pd.pivot_table(train_data,\n",
    "              index = 'y_pred',\n",
    "              aggfunc = 'mean')\n",
    "\n",
    "for i in range(len(anomalies_data)):\n",
    "    anomalies_data['score'].iloc[i] = np.min(cluster_centers[cluster_centers.index != -1].apply(lambda x : \n",
    "                                                                                                distance.euclidean(x[original_columns].to_list(), anomalies_data[original_columns].iloc[i]),1))\n",
    "\n",
    "data_for_auprc = pd.concat([data_w_score, anomalies_data])"
   ]
  },
  {
   "cell_type": "code",
   "execution_count": null,
   "id": "bb6ea96c",
   "metadata": {},
   "outputs": [],
   "source": [
    "fpr, tpr, _ = metrics.roc_curve(data_for_auprc['y'], data_for_auprc['score'])\n",
    "forestcover_dbscan_auc = metrics.auc(fpr, tpr)\n",
    "metrics.auc(fpr, tpr)"
   ]
  },
  {
   "cell_type": "code",
   "execution_count": null,
   "id": "bcb52110",
   "metadata": {},
   "outputs": [],
   "source": [
    "forestcover_dbscan_report = classification_report(train_data['y'], train_data['prediction'], target_names = ['0','1'], output_dict = True)\n",
    "print(classification_report(train_data['y'], train_data['prediction'], target_names = ['0','1']))"
   ]
  },
  {
   "cell_type": "code",
   "execution_count": null,
   "id": "4a198605",
   "metadata": {},
   "outputs": [],
   "source": [
    "precision, recall, thresholds = precision_recall_curve(data_for_auprc['y'], data_for_auprc['score'])\n",
    "forestcover_dbscan_auc_precision_recall = metrics.auc(recall, precision)\n",
    "print(forestcover_dbscan_auc_precision_recall)"
   ]
  },
  {
   "cell_type": "code",
   "execution_count": null,
   "id": "54ebc8e1",
   "metadata": {},
   "outputs": [],
   "source": [
    "forestcover_dbscan_y = train_data['prediction']"
   ]
  },
  {
   "cell_type": "markdown",
   "id": "4a15c2dd",
   "metadata": {},
   "source": [
    "## Annthyroid"
   ]
  },
  {
   "cell_type": "code",
   "execution_count": null,
   "id": "cae6996e",
   "metadata": {},
   "outputs": [],
   "source": [
    "min_max_scaler = MinMaxScaler(feature_range=(0, 1))\n",
    "train_data = min_max_scaler.fit_transform(annthyroid_data.copy())\n",
    "train_data = pd.DataFrame(train_data)\n",
    "train_data.columns = annthyroid_data.columns"
   ]
  },
  {
   "cell_type": "code",
   "execution_count": null,
   "id": "b7ed1e47",
   "metadata": {},
   "outputs": [],
   "source": [
    "dist = dbscan_tuner(train_data ,11)"
   ]
  },
  {
   "cell_type": "code",
   "execution_count": null,
   "id": "f0ba385f",
   "metadata": {},
   "outputs": [],
   "source": [
    "start = time.process_time()\n",
    "dbscan = DBSCAN(eps = 0.1, min_samples = 12)\n",
    "clusters = dbscan.fit_predict(train_data.loc[:, train_data.columns != 'y'])\n",
    "end = time.process_time()\n",
    "annthyroid_dbscan_time = end - start\n",
    "print(end - start)"
   ]
  },
  {
   "cell_type": "code",
   "execution_count": null,
   "id": "86b2cda3",
   "metadata": {},
   "outputs": [],
   "source": [
    "train_data['y_pred'] = clusters\n",
    "train_data['prediction'] = train_data.apply(def_outlier, axis = 1)"
   ]
  },
  {
   "cell_type": "code",
   "execution_count": null,
   "id": "5e821c9b",
   "metadata": {},
   "outputs": [],
   "source": [
    "original_columns = annthyroid_data.columns.to_list()\n",
    "original_columns.remove('y')\n",
    "\n",
    "data_w_score = pd.DataFrame(columns = train_data.columns.to_list())\n",
    "data_w_score['score'] = pd.NaT\n",
    "for i in set(clusters):\n",
    "    if i == -1:\n",
    "        continue\n",
    "    score_data = train_data[train_data['y_pred'] == i].copy()\n",
    "    center = score_data[original_columns].mean().to_list()\n",
    "    score_data['score'] = score_data.apply(lambda x : distance.euclidean(x[original_columns].to_list(), center),1)\n",
    "    data_w_score = data_w_score.append(score_data.copy(), ignore_index = True)\n",
    "\n",
    "anomalies_data = train_data[train_data['y_pred'] == -1].copy()\n",
    "anomalies_data['score'] = ''\n",
    "cluster_centers = pd.pivot_table(train_data,\n",
    "              index = 'y_pred',\n",
    "              aggfunc = 'mean')\n",
    "\n",
    "for i in range(len(anomalies_data)):\n",
    "    anomalies_data['score'].iloc[i] = np.min(cluster_centers[cluster_centers.index != -1].apply(lambda x : \n",
    "                                                                                                distance.euclidean(x[original_columns].to_list(), anomalies_data[original_columns].iloc[i]),1))\n",
    "\n",
    "data_for_auprc = pd.concat([data_w_score, anomalies_data])"
   ]
  },
  {
   "cell_type": "code",
   "execution_count": null,
   "id": "78a76c27",
   "metadata": {},
   "outputs": [],
   "source": [
    "fpr, tpr, _ = metrics.roc_curve(data_for_auprc['y'], data_for_auprc['score'])\n",
    "annthyroid_dbscan_auc = metrics.auc(fpr, tpr)\n",
    "metrics.auc(fpr, tpr)"
   ]
  },
  {
   "cell_type": "code",
   "execution_count": null,
   "id": "a11fcaa2",
   "metadata": {},
   "outputs": [],
   "source": [
    "annthyroid_dbscan_report = classification_report(train_data['y'], train_data['prediction'], target_names = ['0','1'], output_dict = True)\n",
    "print(classification_report(train_data['y'], train_data['prediction'], target_names = ['0','1']))"
   ]
  },
  {
   "cell_type": "code",
   "execution_count": null,
   "id": "e1a48d30",
   "metadata": {},
   "outputs": [],
   "source": [
    "precision, recall, thresholds = precision_recall_curve(data_for_auprc['y'], data_for_auprc['score'])\n",
    "annthyroid_dbscan_auc_precision_recall = metrics.auc(recall, precision)\n",
    "print(annthyroid_dbscan_auc_precision_recall)"
   ]
  },
  {
   "cell_type": "code",
   "execution_count": null,
   "id": "7483f4ab",
   "metadata": {},
   "outputs": [],
   "source": [
    "annthyroid_dbscan_y = train_data['prediction']"
   ]
  },
  {
   "cell_type": "markdown",
   "id": "55262bc9",
   "metadata": {},
   "source": [
    "## Credit card"
   ]
  },
  {
   "cell_type": "code",
   "execution_count": null,
   "id": "2ae61b6d",
   "metadata": {},
   "outputs": [],
   "source": [
    "min_max_scaler = MinMaxScaler(feature_range=(0, 1))\n",
    "train_data = min_max_scaler.fit_transform(creditcard_data.copy())\n",
    "train_data = pd.DataFrame(train_data)\n",
    "train_data.columns = creditcard_data.columns"
   ]
  },
  {
   "cell_type": "code",
   "execution_count": null,
   "id": "f7c06028",
   "metadata": {},
   "outputs": [],
   "source": [
    "data_dbscan = train_data.sample(frac=0.1)\n",
    "dist = dbscan_tuner(data_dbscan,57)"
   ]
  },
  {
   "cell_type": "code",
   "execution_count": null,
   "id": "f7cd7bf7",
   "metadata": {},
   "outputs": [],
   "source": [
    "start = time.process_time()\n",
    "dbscan = DBSCAN(eps = 0.15, min_samples = 58)\n",
    "clusters = dbscan.fit_predict(train_data.loc[:, train_data.columns != 'Class'])\n",
    "end = time.process_time()\n",
    "creditcard_dbscan_time = end - start\n",
    "print(end - start)"
   ]
  },
  {
   "cell_type": "code",
   "execution_count": null,
   "id": "69939061",
   "metadata": {},
   "outputs": [],
   "source": [
    "train_data['y_pred'] = clusters\n",
    "train_data['prediction'] = train_data.apply(def_outlier, axis = 1)"
   ]
  },
  {
   "cell_type": "code",
   "execution_count": null,
   "id": "cb45f2b5",
   "metadata": {},
   "outputs": [],
   "source": [
    "original_columns = creditcard_data.columns.to_list()\n",
    "original_columns.remove('Class')\n",
    "\n",
    "data_w_score = pd.DataFrame(columns = train_data.columns.to_list())\n",
    "data_w_score['score'] = pd.NaT\n",
    "for i in set(clusters):\n",
    "    if i == -1:\n",
    "        continue\n",
    "    score_data = train_data[train_data['y_pred'] == i].copy()\n",
    "    center = score_data[original_columns].mean().to_list()\n",
    "    score_data['score'] = score_data.apply(lambda x : distance.euclidean(x[original_columns].to_list(), center),1)\n",
    "    data_w_score = data_w_score.append(score_data.copy(), ignore_index = True)\n",
    "\n",
    "anomalies_data = train_data[train_data['y_pred'] == -1].copy()\n",
    "anomalies_data['score'] = ''\n",
    "cluster_centers = pd.pivot_table(train_data,\n",
    "              index = 'y_pred',\n",
    "              aggfunc = 'mean')\n",
    "\n",
    "for i in range(len(anomalies_data)):\n",
    "    anomalies_data['score'].iloc[i] = np.min(cluster_centers[cluster_centers.index != -1].apply(lambda x : \n",
    "                                                                                                distance.euclidean(x[original_columns].to_list(), anomalies_data[original_columns].iloc[i]),1))\n",
    "\n",
    "data_for_auprc = pd.concat([data_w_score, anomalies_data])"
   ]
  },
  {
   "cell_type": "code",
   "execution_count": null,
   "id": "fdefdee3",
   "metadata": {},
   "outputs": [],
   "source": [
    "fpr, tpr, _ = metrics.roc_curve(data_for_auprc['Class'], data_for_auprc['score'])\n",
    "creditcard_dbscan_auc = metrics.auc(fpr, tpr)\n",
    "metrics.auc(fpr, tpr)"
   ]
  },
  {
   "cell_type": "code",
   "execution_count": null,
   "id": "6f5c738e",
   "metadata": {},
   "outputs": [],
   "source": [
    "creditcard_dbscan_report = classification_report(train_data['Class'], train_data['prediction'], target_names = ['0','1'], output_dict = True)\n",
    "print(classification_report(train_data['Class'], train_data['prediction'], target_names = ['0','1']))"
   ]
  },
  {
   "cell_type": "code",
   "execution_count": null,
   "id": "4b0b8101",
   "metadata": {},
   "outputs": [],
   "source": [
    "precision, recall, thresholds = precision_recall_curve(data_for_auprc['Class'], data_for_auprc['score'])\n",
    "creditcard_dbscan_auc_precision_recall = metrics.auc(recall, precision)\n",
    "print(creditcard_dbscan_auc_precision_recall)"
   ]
  },
  {
   "cell_type": "code",
   "execution_count": null,
   "id": "4fbb7858",
   "metadata": {},
   "outputs": [],
   "source": [
    "creditcard_dbscan_y = train_data['prediction']"
   ]
  },
  {
   "cell_type": "markdown",
   "id": "450116fe",
   "metadata": {},
   "source": [
    "## Mammography"
   ]
  },
  {
   "cell_type": "code",
   "execution_count": null,
   "id": "1c0b8eb2",
   "metadata": {},
   "outputs": [],
   "source": [
    "min_max_scaler = MinMaxScaler(feature_range=(0, 1))\n",
    "train_data = min_max_scaler.fit_transform(mammography_data.copy())\n",
    "train_data = pd.DataFrame(train_data)\n",
    "train_data.columns = mammography_data.columns"
   ]
  },
  {
   "cell_type": "code",
   "execution_count": null,
   "id": "f5c8beab",
   "metadata": {},
   "outputs": [],
   "source": [
    "dist = dbscan_tuner(train_data,11)"
   ]
  },
  {
   "cell_type": "code",
   "execution_count": null,
   "id": "94ef1f2d",
   "metadata": {},
   "outputs": [],
   "source": [
    "start = time.process_time()\n",
    "dbscan = DBSCAN(eps = 0.07, min_samples = 12)\n",
    "clusters = dbscan.fit_predict(train_data.loc[:, train_data.columns != 'y'])\n",
    "end = time.process_time()\n",
    "mammography_dbscan_time = end - start\n",
    "print(end - start)"
   ]
  },
  {
   "cell_type": "code",
   "execution_count": null,
   "id": "98e90233",
   "metadata": {},
   "outputs": [],
   "source": [
    "train_data['y_pred'] = clusters\n",
    "train_data['prediction'] = train_data.apply(def_outlier, axis = 1)"
   ]
  },
  {
   "cell_type": "code",
   "execution_count": null,
   "id": "90bf47dc",
   "metadata": {},
   "outputs": [],
   "source": [
    "original_columns = mammography_data.columns.to_list()\n",
    "original_columns.remove('y')\n",
    "\n",
    "data_w_score = pd.DataFrame(columns = train_data.columns.to_list())\n",
    "data_w_score['score'] = pd.NaT\n",
    "for i in set(clusters):\n",
    "    if i == -1:\n",
    "        continue\n",
    "    score_data = train_data[train_data['y_pred'] == i].copy()\n",
    "    center = score_data[original_columns].mean().to_list()\n",
    "    score_data['score'] = score_data.apply(lambda x : distance.euclidean(x[original_columns].to_list(), center),1)\n",
    "    data_w_score = data_w_score.append(score_data.copy(), ignore_index = True)\n",
    "\n",
    "anomalies_data = train_data[train_data['y_pred'] == -1].copy()\n",
    "anomalies_data['score'] = ''\n",
    "cluster_centers = pd.pivot_table(train_data,\n",
    "              index = 'y_pred',\n",
    "              aggfunc = 'mean')\n",
    "\n",
    "for i in range(len(anomalies_data)):\n",
    "    anomalies_data['score'].iloc[i] = np.min(cluster_centers[cluster_centers.index != -1].apply(lambda x : \n",
    "                                                                                                distance.euclidean(x[original_columns].to_list(), \n",
    "                                                                                                                   anomalies_data[original_columns].iloc[i]),1))\n",
    "\n",
    "data_for_auprc = pd.concat([data_w_score, anomalies_data])"
   ]
  },
  {
   "cell_type": "code",
   "execution_count": null,
   "id": "c834fa63",
   "metadata": {},
   "outputs": [],
   "source": [
    "fpr, tpr, _ = metrics.roc_curve(data_for_auprc['y'], data_for_auprc['score'])\n",
    "mammography_dbscan_auc = metrics.auc(fpr, tpr)\n",
    "metrics.auc(fpr, tpr)"
   ]
  },
  {
   "cell_type": "code",
   "execution_count": null,
   "id": "7050d634",
   "metadata": {},
   "outputs": [],
   "source": [
    "mammography_dbscan_report = classification_report(train_data['y'], train_data['prediction'], target_names = ['0','1'], output_dict = True)\n",
    "print(classification_report(train_data['y'], train_data['prediction'], target_names = ['0','1']))"
   ]
  },
  {
   "cell_type": "code",
   "execution_count": null,
   "id": "3e6f00bc",
   "metadata": {},
   "outputs": [],
   "source": [
    "precision, recall, thresholds = precision_recall_curve(data_for_auprc['y'], data_for_auprc['score'])\n",
    "mammography_dbscan_auc_precision_recall = metrics.auc(recall, precision)\n",
    "print(mammography_dbscan_auc_precision_recall)"
   ]
  },
  {
   "cell_type": "code",
   "execution_count": null,
   "id": "87fc57ca",
   "metadata": {},
   "outputs": [],
   "source": [
    "mammography_dbscan_y = train_data['prediction']"
   ]
  },
  {
   "cell_type": "markdown",
   "id": "f16c578e",
   "metadata": {},
   "source": [
    "## Shuttle"
   ]
  },
  {
   "cell_type": "code",
   "execution_count": null,
   "id": "58e3650e",
   "metadata": {},
   "outputs": [],
   "source": [
    "min_max_scaler = MinMaxScaler(feature_range=(0, 1))\n",
    "train_data = min_max_scaler.fit_transform(shuttle_data.copy())\n",
    "train_data = pd.DataFrame(train_data)\n",
    "train_data.columns = shuttle_data.columns"
   ]
  },
  {
   "cell_type": "code",
   "execution_count": null,
   "id": "50d76080",
   "metadata": {},
   "outputs": [],
   "source": [
    "dist = dbscan_tuner(train_data, 17)"
   ]
  },
  {
   "cell_type": "code",
   "execution_count": null,
   "id": "a5b263cc",
   "metadata": {},
   "outputs": [],
   "source": [
    "start = time.process_time()\n",
    "\n",
    "dbscan = DBSCAN(eps = 0.005, min_samples = 18)\n",
    "clusters = dbscan.fit_predict(train_data.loc[:, train_data.columns != 'y'])\n",
    "\n",
    "end = time.process_time()\n",
    "shuttle_dbscan_time = end - start\n",
    "print(end - start)"
   ]
  },
  {
   "cell_type": "code",
   "execution_count": null,
   "id": "40290093",
   "metadata": {},
   "outputs": [],
   "source": [
    "train_data['y_pred'] = clusters\n",
    "train_data['prediction'] = train_data.apply(def_outlier, axis = 1)"
   ]
  },
  {
   "cell_type": "code",
   "execution_count": null,
   "id": "a856ec59",
   "metadata": {},
   "outputs": [],
   "source": [
    "original_columns = shuttle_data.columns.to_list()\n",
    "original_columns.remove('y')\n",
    "\n",
    "data_w_score = pd.DataFrame(columns = train_data.columns.to_list())\n",
    "data_w_score['score'] = pd.NaT\n",
    "for i in set(clusters):\n",
    "    if i == -1:\n",
    "        continue\n",
    "    score_data = train_data[train_data['y_pred'] == i].copy()\n",
    "    center = score_data[original_columns].mean().to_list()\n",
    "    score_data['score'] = score_data.apply(lambda x : distance.euclidean(x[original_columns].to_list(), center),1)\n",
    "    data_w_score = data_w_score.append(score_data.copy(), ignore_index = True)\n",
    "\n",
    "anomalies_data = train_data[train_data['y_pred'] == -1].copy()\n",
    "anomalies_data['score'] = ''\n",
    "cluster_centers = pd.pivot_table(train_data,\n",
    "              index = 'y_pred',\n",
    "              aggfunc = 'mean')\n",
    "\n",
    "for i in range(len(anomalies_data)):\n",
    "    anomalies_data['score'].iloc[i] = np.min(cluster_centers[cluster_centers.index != -1].apply(lambda x : \n",
    "                                                                            distance.euclidean(x[original_columns].to_list(), \n",
    "                                                                            anomalies_data[original_columns].iloc[i]),1))\n",
    "\n",
    "data_for_auprc = pd.concat([data_w_score, anomalies_data])"
   ]
  },
  {
   "cell_type": "code",
   "execution_count": null,
   "id": "df996904",
   "metadata": {},
   "outputs": [],
   "source": [
    "fpr, tpr, _ = metrics.roc_curve(data_for_auprc['y'], data_for_auprc['score'])\n",
    "shuttle_dbscan_auc = metrics.auc(fpr, tpr)\n",
    "metrics.auc(fpr, tpr)"
   ]
  },
  {
   "cell_type": "code",
   "execution_count": null,
   "id": "181844d9",
   "metadata": {},
   "outputs": [],
   "source": [
    "shuttle_dbscan_report = classification_report(train_data['y'], train_data['prediction'], target_names = ['0','1'], output_dict = True)\n",
    "print(classification_report(train_data['y'], train_data['prediction'], target_names = ['0','1']))"
   ]
  },
  {
   "cell_type": "code",
   "execution_count": null,
   "id": "fe8faddc",
   "metadata": {},
   "outputs": [],
   "source": [
    "precision, recall, thresholds = precision_recall_curve(data_for_auprc['y'], data_for_auprc['score'])\n",
    "shuttle_dbscan_auc_precision_recall = metrics.auc(recall, precision)\n",
    "print(shuttle_dbscan_auc_precision_recall)"
   ]
  },
  {
   "cell_type": "code",
   "execution_count": null,
   "id": "d78ccfba",
   "metadata": {},
   "outputs": [],
   "source": [
    "shuttle_dbscan_y = train_data['prediction']"
   ]
  },
  {
   "cell_type": "markdown",
   "id": "7cade721",
   "metadata": {},
   "source": [
    "## Mnist"
   ]
  },
  {
   "cell_type": "code",
   "execution_count": null,
   "id": "2a2b5639",
   "metadata": {},
   "outputs": [],
   "source": [
    "min_max_scaler = MinMaxScaler(feature_range=(0, 1))\n",
    "train_data = min_max_scaler.fit_transform(mnist_data.copy())\n",
    "train_data = pd.DataFrame(train_data)\n",
    "train_data.columns = mnist_data.columns"
   ]
  },
  {
   "cell_type": "code",
   "execution_count": null,
   "id": "a7d45431",
   "metadata": {},
   "outputs": [],
   "source": [
    "dist = dbscan_tuner(train_data,155)"
   ]
  },
  {
   "cell_type": "code",
   "execution_count": null,
   "id": "8befd284",
   "metadata": {},
   "outputs": [],
   "source": [
    "start = time.process_time()\n",
    "\n",
    "dbscan = DBSCAN(eps = 2.5, min_samples = 156)\n",
    "clusters = dbscan.fit_predict(train_data.loc[:, train_data.columns != 'y'])\n",
    "\n",
    "end = time.process_time()\n",
    "mnist_dbscan_time = end - start\n",
    "print(end - start)"
   ]
  },
  {
   "cell_type": "code",
   "execution_count": null,
   "id": "a62ec795",
   "metadata": {},
   "outputs": [],
   "source": [
    "train_data['y_pred'] = clusters\n",
    "train_data['prediction'] = train_data.apply(def_outlier, axis = 1)"
   ]
  },
  {
   "cell_type": "code",
   "execution_count": null,
   "id": "6341df8f",
   "metadata": {},
   "outputs": [],
   "source": [
    "original_columns = mnist_data.columns.to_list()\n",
    "original_columns.remove('y')\n",
    "\n",
    "data_w_score = pd.DataFrame(columns = train_data.columns.to_list())\n",
    "data_w_score['score'] = pd.NaT\n",
    "for i in set(clusters):\n",
    "    if i == -1:\n",
    "        continue\n",
    "    score_data = train_data[train_data['y_pred'] == i].copy()\n",
    "    center = score_data[original_columns].mean().to_list()\n",
    "    score_data['score'] = score_data.apply(lambda x : distance.euclidean(x[original_columns].to_list(), center),1)\n",
    "    data_w_score = data_w_score.append(score_data.copy(), ignore_index = True)\n",
    "\n",
    "anomalies_data = train_data[train_data['y_pred'] == -1].copy()\n",
    "anomalies_data['score'] = ''\n",
    "cluster_centers = pd.pivot_table(train_data,\n",
    "              index = 'y_pred',\n",
    "              aggfunc = 'mean')\n",
    "\n",
    "for i in range(len(anomalies_data)):\n",
    "    anomalies_data['score'].iloc[i] = np.min(cluster_centers[cluster_centers.index != -1].apply(lambda x : \n",
    "                                                                                                distance.euclidean(x[original_columns].to_list(), \n",
    "                                                                                                                   anomalies_data[original_columns].iloc[i]),1))\n",
    "\n",
    "data_for_auprc = pd.concat([data_w_score, anomalies_data])"
   ]
  },
  {
   "cell_type": "code",
   "execution_count": null,
   "id": "68aded60",
   "metadata": {},
   "outputs": [],
   "source": [
    "fpr, tpr, _ = metrics.roc_curve(data_for_auprc['y'], data_for_auprc['score'])\n",
    "mnist_dbscan_auc = metrics.auc(fpr, tpr)\n",
    "metrics.auc(fpr, tpr)"
   ]
  },
  {
   "cell_type": "code",
   "execution_count": null,
   "id": "1d04e6fa",
   "metadata": {},
   "outputs": [],
   "source": [
    "mnist_dbscan_report = classification_report(train_data['y'], train_data['prediction'], target_names = ['0','1'], output_dict = True)\n",
    "print(classification_report(train_data['y'], train_data['prediction'], target_names = ['0','1']))"
   ]
  },
  {
   "cell_type": "code",
   "execution_count": null,
   "id": "62735c80",
   "metadata": {},
   "outputs": [],
   "source": [
    "precision, recall, thresholds = precision_recall_curve(data_for_auprc['y'], data_for_auprc['score'])\n",
    "mnist_dbscan_auc_precision_recall = metrics.auc(recall, precision)\n",
    "print(mnist_dbscan_auc_precision_recall)"
   ]
  },
  {
   "cell_type": "code",
   "execution_count": null,
   "id": "16f7b67a",
   "metadata": {},
   "outputs": [],
   "source": [
    "mnist_dbscan_y = train_data['prediction']"
   ]
  },
  {
   "cell_type": "markdown",
   "id": "0b5da0ff",
   "metadata": {},
   "source": [
    "## Vowels"
   ]
  },
  {
   "cell_type": "code",
   "execution_count": null,
   "id": "9a8b645e",
   "metadata": {},
   "outputs": [],
   "source": [
    "min_max_scaler = MinMaxScaler(feature_range=(0, 1))\n",
    "train_data = min_max_scaler.fit_transform(vowels_data.copy())\n",
    "train_data = pd.DataFrame(train_data)\n",
    "train_data.columns = vowels_data.columns"
   ]
  },
  {
   "cell_type": "code",
   "execution_count": null,
   "id": "df3472db",
   "metadata": {},
   "outputs": [],
   "source": [
    "dist = dbscan_tuner(train_data,23)"
   ]
  },
  {
   "cell_type": "code",
   "execution_count": null,
   "id": "014879b8",
   "metadata": {},
   "outputs": [],
   "source": [
    "start = time.process_time()\n",
    "\n",
    "dbscan = DBSCAN(eps = 0.4, min_samples = 24)\n",
    "clusters = dbscan.fit_predict(train_data.loc[:, train_data.columns != 'y'])\n",
    "\n",
    "end = time.process_time()\n",
    "vowels_dbscan_time = end - start\n",
    "print(end - start)"
   ]
  },
  {
   "cell_type": "code",
   "execution_count": null,
   "id": "796a952b",
   "metadata": {},
   "outputs": [],
   "source": [
    "train_data['y_pred'] = clusters\n",
    "train_data['prediction'] = train_data.apply(def_outlier, axis = 1)"
   ]
  },
  {
   "cell_type": "code",
   "execution_count": null,
   "id": "5cf94bcf",
   "metadata": {},
   "outputs": [],
   "source": [
    "original_columns = vowels_data.columns.to_list()\n",
    "original_columns.remove('y')\n",
    "\n",
    "data_w_score = pd.DataFrame(columns = train_data.columns.to_list())\n",
    "data_w_score['score'] = pd.NaT\n",
    "for i in set(clusters):\n",
    "    if i == -1:\n",
    "        continue\n",
    "    score_data = train_data[train_data['y_pred'] == i].copy()\n",
    "    center = score_data[original_columns].mean().to_list()\n",
    "    score_data['score'] = score_data.apply(lambda x : distance.euclidean(x[original_columns].to_list(), center),1)\n",
    "    data_w_score = data_w_score.append(score_data.copy(), ignore_index = True)\n",
    "\n",
    "anomalies_data = train_data[train_data['y_pred'] == -1].copy()\n",
    "anomalies_data['score'] = ''\n",
    "cluster_centers = pd.pivot_table(train_data,\n",
    "              index = 'y_pred',\n",
    "              aggfunc = 'mean')\n",
    "\n",
    "for i in range(len(anomalies_data)):\n",
    "    anomalies_data['score'].iloc[i] = np.min(cluster_centers[cluster_centers.index != -1].apply(lambda x : \n",
    "                                                                                                distance.euclidean(x[original_columns].to_list(), \n",
    "                                                                                                anomalies_data[original_columns].iloc[i]),1))\n",
    "\n",
    "data_for_auprc = pd.concat([data_w_score, anomalies_data])"
   ]
  },
  {
   "cell_type": "code",
   "execution_count": null,
   "id": "c6f9f619",
   "metadata": {},
   "outputs": [],
   "source": [
    "fpr, tpr, _ = metrics.roc_curve(data_for_auprc['y'], data_for_auprc['score'])\n",
    "vowels_dbscan_auc = metrics.auc(fpr, tpr)\n",
    "metrics.auc(fpr, tpr)"
   ]
  },
  {
   "cell_type": "code",
   "execution_count": null,
   "id": "e3435c2a",
   "metadata": {},
   "outputs": [],
   "source": [
    "vowels_dbscan_report = classification_report(train_data['y'], train_data['prediction'], target_names = ['0','1'], output_dict = True)\n",
    "print(classification_report(train_data['y'], train_data['prediction'], target_names = ['0','1']))"
   ]
  },
  {
   "cell_type": "code",
   "execution_count": null,
   "id": "b8597f42",
   "metadata": {},
   "outputs": [],
   "source": [
    "precision, recall, thresholds = precision_recall_curve(data_for_auprc['y'], data_for_auprc['score'])\n",
    "vowels_dbscan_auc_precision_recall = metrics.auc(recall, precision)\n",
    "print(vowels_dbscan_auc_precision_recall)"
   ]
  },
  {
   "cell_type": "code",
   "execution_count": null,
   "id": "e4f22ac9",
   "metadata": {},
   "outputs": [],
   "source": [
    "vowels_dbscan_y = train_data['prediction']"
   ]
  },
  {
   "cell_type": "markdown",
   "id": "249ab09c",
   "metadata": {},
   "source": [
    "## Seismic"
   ]
  },
  {
   "cell_type": "code",
   "execution_count": null,
   "id": "a1e3cdc3",
   "metadata": {},
   "outputs": [],
   "source": [
    "min_max_scaler = MinMaxScaler(feature_range=(0, 1))\n",
    "train_data = min_max_scaler.fit_transform(seismic_data.copy())\n",
    "train_data = pd.DataFrame(train_data)\n",
    "train_data.columns = seismic_data.columns"
   ]
  },
  {
   "cell_type": "code",
   "execution_count": null,
   "id": "49efa370",
   "metadata": {},
   "outputs": [],
   "source": [
    "dist = dbscan_tuner(train_data,41)"
   ]
  },
  {
   "cell_type": "code",
   "execution_count": null,
   "id": "3fe935e3",
   "metadata": {},
   "outputs": [],
   "source": [
    "start = time.process_time()\n",
    "dbscan = DBSCAN(eps = 0.25, min_samples = 42)\n",
    "clusters = dbscan.fit_predict(train_data.loc[:, train_data.columns != 'class'])\n",
    "end = time.process_time()\n",
    "seismic_dbscan_time = end - start\n",
    "print(end - start)"
   ]
  },
  {
   "cell_type": "code",
   "execution_count": null,
   "id": "519a2125",
   "metadata": {},
   "outputs": [],
   "source": [
    "train_data['y_pred'] = clusters\n",
    "train_data['prediction'] = train_data.apply(def_outlier, axis = 1)"
   ]
  },
  {
   "cell_type": "code",
   "execution_count": null,
   "id": "0db95171",
   "metadata": {},
   "outputs": [],
   "source": [
    "original_columns = seismic_data.columns.to_list()\n",
    "original_columns.remove('class')\n",
    "\n",
    "data_w_score = pd.DataFrame(columns = train_data.columns.to_list())\n",
    "data_w_score['score'] = pd.NaT\n",
    "for i in set(clusters):\n",
    "    if i == -1:\n",
    "        continue\n",
    "    score_data = train_data[train_data['y_pred'] == i].copy()\n",
    "    center = score_data[original_columns].mean().to_list()\n",
    "    score_data['score'] = score_data.apply(lambda x : distance.euclidean(x[original_columns].to_list(), center),1)\n",
    "    data_w_score = data_w_score.append(score_data.copy(), ignore_index = True)\n",
    "\n",
    "anomalies_data = train_data[train_data['y_pred'] == -1].copy()\n",
    "anomalies_data['score'] = ''\n",
    "cluster_centers = pd.pivot_table(train_data,\n",
    "              index = 'y_pred',\n",
    "              aggfunc = 'mean')\n",
    "\n",
    "for i in range(len(anomalies_data)):\n",
    "    anomalies_data['score'].iloc[i] = np.min(cluster_centers[cluster_centers.index != -1].apply(lambda x : \n",
    "                                                                                                distance.euclidean(x[original_columns].to_list(), \n",
    "                                                                                                                   anomalies_data[original_columns].iloc[i]),1))\n",
    "\n",
    "data_for_auprc = pd.concat([data_w_score, anomalies_data])"
   ]
  },
  {
   "cell_type": "code",
   "execution_count": null,
   "id": "c5916352",
   "metadata": {},
   "outputs": [],
   "source": [
    "fpr, tpr, _ = metrics.roc_curve(data_for_auprc['class'], data_for_auprc['score'])\n",
    "seismic_dbscan_auc = metrics.auc(fpr, tpr)\n",
    "metrics.auc(fpr, tpr)"
   ]
  },
  {
   "cell_type": "code",
   "execution_count": null,
   "id": "d6fa59d3",
   "metadata": {},
   "outputs": [],
   "source": [
    "seismic_dbscan_report = classification_report(train_data['class'], train_data['prediction'], target_names = ['0','1'], output_dict=True)\n",
    "print(classification_report(train_data['class'], train_data['prediction'], target_names = ['0','1']))"
   ]
  },
  {
   "cell_type": "code",
   "execution_count": null,
   "id": "d1186690",
   "metadata": {},
   "outputs": [],
   "source": [
    "precision, recall, thresholds = precision_recall_curve(data_for_auprc['class'], data_for_auprc['score'])\n",
    "seismic_dbscan_auc_precision_recall = metrics.auc(recall, precision)\n",
    "print(seismic_dbscan_auc_precision_recall)"
   ]
  },
  {
   "cell_type": "code",
   "execution_count": null,
   "id": "7cd9b205",
   "metadata": {},
   "outputs": [],
   "source": [
    "seismic_dbscan_y = train_data['prediction']"
   ]
  },
  {
   "cell_type": "markdown",
   "id": "4ca34a9c",
   "metadata": {},
   "source": [
    "## Musk"
   ]
  },
  {
   "cell_type": "code",
   "execution_count": null,
   "id": "7a4ca3b0",
   "metadata": {},
   "outputs": [],
   "source": [
    "min_max_scaler = MinMaxScaler(feature_range=(0, 1))\n",
    "train_data = min_max_scaler.fit_transform(musk_data.copy())\n",
    "train_data = pd.DataFrame(train_data)\n",
    "train_data.columns = musk_data.columns"
   ]
  },
  {
   "cell_type": "code",
   "execution_count": null,
   "id": "ddaf666f",
   "metadata": {},
   "outputs": [],
   "source": [
    "dist = dbscan_tuner(train_data,331)"
   ]
  },
  {
   "cell_type": "code",
   "execution_count": null,
   "id": "0e27ebcc",
   "metadata": {},
   "outputs": [],
   "source": [
    "start = time.process_time()\n",
    "dbscan = DBSCAN(eps = 3.2, min_samples = 332)\n",
    "clusters = dbscan.fit_predict(train_data.loc[:, train_data.columns != 'y'])\n",
    "end = time.process_time()\n",
    "musk_dbscan_time = end - start\n",
    "print(end - start)"
   ]
  },
  {
   "cell_type": "code",
   "execution_count": null,
   "id": "ed5471e9",
   "metadata": {},
   "outputs": [],
   "source": [
    "train_data['y_pred'] = clusters\n",
    "train_data['prediction'] = train_data.apply(def_outlier, axis = 1)"
   ]
  },
  {
   "cell_type": "code",
   "execution_count": null,
   "id": "522625e3",
   "metadata": {},
   "outputs": [],
   "source": [
    "original_columns = musk_data.columns.to_list()\n",
    "original_columns.remove('y')\n",
    "\n",
    "data_w_score = pd.DataFrame(columns = train_data.columns.to_list())\n",
    "data_w_score['score'] = pd.NaT\n",
    "for i in set(clusters):\n",
    "    if i == -1:\n",
    "        continue\n",
    "    score_data = train_data[train_data['y_pred'] == i].copy()\n",
    "    center = score_data[original_columns].mean().to_list()\n",
    "    score_data['score'] = score_data.apply(lambda x : distance.euclidean(x[original_columns].to_list(), center),1)\n",
    "    data_w_score = data_w_score.append(score_data.copy(), ignore_index = True)\n",
    "\n",
    "anomalies_data = train_data[train_data['y_pred'] == -1].copy()\n",
    "anomalies_data['score'] = ''\n",
    "cluster_centers = pd.pivot_table(train_data,\n",
    "              index = 'y_pred',\n",
    "              aggfunc = 'mean')\n",
    "\n",
    "for i in range(len(anomalies_data)):\n",
    "    anomalies_data['score'].iloc[i] = np.min(cluster_centers[cluster_centers.index != -1].apply(lambda x : \n",
    "                                                                                                distance.euclidean(x[original_columns].to_list(), \n",
    "                                                                                                                   anomalies_data[original_columns].iloc[i]),1))\n",
    "\n",
    "data_for_auprc = pd.concat([data_w_score, anomalies_data])"
   ]
  },
  {
   "cell_type": "code",
   "execution_count": null,
   "id": "08d85903",
   "metadata": {},
   "outputs": [],
   "source": [
    "fpr, tpr, _ = metrics.roc_curve(data_for_auprc['y'], data_for_auprc['score'])\n",
    "musk_dbscan_auc = metrics.auc(fpr, tpr)\n",
    "metrics.auc(fpr, tpr)"
   ]
  },
  {
   "cell_type": "code",
   "execution_count": null,
   "id": "5dfd2a4c",
   "metadata": {},
   "outputs": [],
   "source": [
    "musk_dbscan_report = classification_report(train_data['y'], train_data['prediction'], target_names = ['0','1'], output_dict=True)\n",
    "print(classification_report(train_data['y'], train_data['prediction'], target_names = ['0','1']))"
   ]
  },
  {
   "cell_type": "code",
   "execution_count": null,
   "id": "3bc4ef59",
   "metadata": {},
   "outputs": [],
   "source": [
    "precision, recall, thresholds = precision_recall_curve(data_for_auprc['y'], data_for_auprc['score'])\n",
    "musk_dbscan_auc_precision_recall = metrics.auc(recall, precision)\n",
    "print(musk_dbscan_auc_precision_recall)"
   ]
  },
  {
   "cell_type": "code",
   "execution_count": null,
   "id": "c3777cc2",
   "metadata": {},
   "outputs": [],
   "source": [
    "musk_dbscan_y = train_data['prediction']"
   ]
  },
  {
   "cell_type": "markdown",
   "id": "638f6385",
   "metadata": {},
   "source": [
    "## Bank"
   ]
  },
  {
   "cell_type": "code",
   "execution_count": null,
   "id": "74322444",
   "metadata": {},
   "outputs": [],
   "source": [
    "min_max_scaler = MinMaxScaler(feature_range=(0, 1))\n",
    "train_data = min_max_scaler.fit_transform(bank_data.copy())\n",
    "train_data = pd.DataFrame(train_data)\n",
    "train_data.columns = bank_data.columns"
   ]
  },
  {
   "cell_type": "code",
   "execution_count": null,
   "id": "5ef90cc8",
   "metadata": {},
   "outputs": [],
   "source": [
    "dist = dbscan_tuner(train_data,123)"
   ]
  },
  {
   "cell_type": "code",
   "execution_count": null,
   "id": "50daab1e",
   "metadata": {},
   "outputs": [],
   "source": [
    "start = time.process_time()\n",
    "dbscan = DBSCAN(eps = 2, min_samples = 124)\n",
    "clusters = dbscan.fit_predict(train_data.loc[:, train_data.columns != 'class'])\n",
    "end = time.process_time()\n",
    "bank_dbscan_time = end - start\n",
    "print(end - start)"
   ]
  },
  {
   "cell_type": "code",
   "execution_count": null,
   "id": "22e4f04e",
   "metadata": {},
   "outputs": [],
   "source": [
    "train_data['y_pred'] = clusters\n",
    "train_data['prediction'] = train_data.apply(def_outlier, axis = 1)"
   ]
  },
  {
   "cell_type": "code",
   "execution_count": null,
   "id": "e4617bcd",
   "metadata": {},
   "outputs": [],
   "source": [
    "original_columns = bank_data.columns.to_list()\n",
    "original_columns.remove('class')\n",
    "\n",
    "data_w_score = pd.DataFrame(columns = train_data.columns.to_list())\n",
    "data_w_score['score'] = pd.NaT\n",
    "for i in set(clusters):\n",
    "    if i == -1:\n",
    "        continue\n",
    "    score_data = train_data[train_data['y_pred'] == i].copy()\n",
    "    center = score_data[original_columns].mean().to_list()\n",
    "    score_data['score'] = score_data.apply(lambda x : distance.euclidean(x[original_columns].to_list(), center),1)\n",
    "    data_w_score = data_w_score.append(score_data.copy(), ignore_index = True)\n",
    "\n",
    "anomalies_data = train_data[train_data['y_pred'] == -1].copy()\n",
    "anomalies_data['score'] = ''\n",
    "cluster_centers = pd.pivot_table(train_data,\n",
    "              index = 'y_pred',\n",
    "              aggfunc = 'mean')\n",
    "\n",
    "for i in range(len(anomalies_data)):\n",
    "    anomalies_data['score'].iloc[i] = np.min(cluster_centers[cluster_centers.index != -1].apply(lambda x : \n",
    "                                                                                                distance.euclidean(x[original_columns].to_list(), \n",
    "                                                                                                                   anomalies_data[original_columns].iloc[i]),1))\n",
    "\n",
    "data_for_auprc = pd.concat([data_w_score, anomalies_data])"
   ]
  },
  {
   "cell_type": "code",
   "execution_count": null,
   "id": "a1a3e0f8",
   "metadata": {},
   "outputs": [],
   "source": [
    "fpr, tpr, _ = metrics.roc_curve(data_for_auprc['class'], data_for_auprc['score'])\n",
    "bank_dbscan_auc = metrics.auc(fpr, tpr)\n",
    "metrics.auc(fpr, tpr)"
   ]
  },
  {
   "cell_type": "code",
   "execution_count": null,
   "id": "1a2d71a0",
   "metadata": {},
   "outputs": [],
   "source": [
    "bank_dbscan_report = classification_report(train_data['class'], train_data['prediction'], target_names = ['0','1'], output_dict=True)\n",
    "print(classification_report(train_data['class'], train_data['prediction'], target_names = ['0','1']))"
   ]
  },
  {
   "cell_type": "code",
   "execution_count": null,
   "id": "e75f9d60",
   "metadata": {},
   "outputs": [],
   "source": [
    "precision, recall, thresholds = precision_recall_curve(data_for_auprc['class'], data_for_auprc['score'])\n",
    "bank_dbscan_auc_precision_recall = metrics.auc(recall, precision)\n",
    "print(bank_dbscan_auc_precision_recall)"
   ]
  },
  {
   "cell_type": "code",
   "execution_count": null,
   "id": "0ba8d7cc",
   "metadata": {},
   "outputs": [],
   "source": [
    "bank_dbscan_y = train_data['prediction']"
   ]
  },
  {
   "cell_type": "markdown",
   "id": "cde82229",
   "metadata": {},
   "source": [
    "# Performance"
   ]
  },
  {
   "cell_type": "code",
   "execution_count": null,
   "id": "b1025ac9",
   "metadata": {},
   "outputs": [],
   "source": [
    "arrhythmia_performance = pd.DataFrame(columns = ['method','f1-score','sensitivity',\n",
    "                                           'precision','Time','AUC','AU precision-recall curve'])\n",
    "\n",
    "arrhythmia_iforest_performance = {'method':'iForest',\n",
    "               'f1-score':arrhythmia_iforest_report['1']['f1-score'], \n",
    "               'sensitivity':arrhythmia_iforest_report['1']['recall'],\n",
    "               'precision':arrhythmia_iforest_report['1']['precision'],        \n",
    "              'Time':arrhythmia_iforest_time,\n",
    "              'AUC':arrhythmia_iforest_auc,\n",
    "                      'AU precision-recall curve': arrhythmia_iforest_auc_precision_recall}\n",
    "arrhythmia_lof_performance = {'method':'LOF',\n",
    "               'f1-score':arrhythmia_lof_report['1']['f1-score'], \n",
    "               'sensitivity':arrhythmia_lof_report['1']['recall'],\n",
    "               'precision':arrhythmia_lof_report['1']['precision'],    \n",
    "              'Time':arrhythmia_lof_time,\n",
    "              'AUC':arrhythmia_lof_auc,\n",
    "                  'AU precision-recall curve': arrhythmia_lof_auc_precision_recall}\n",
    "arrhythmia_dbscan_performance = { 'method':'DBSCAN',\n",
    "               'f1-score':arrhythmia_dbscan_report['1']['f1-score'], \n",
    "               'sensitivity':arrhythmia_dbscan_report['1']['recall'],\n",
    "               'precision':arrhythmia_dbscan_report['1']['precision'],       \n",
    "              'Time':arrhythmia_dbscan_time,\n",
    "              'AUC':arrhythmia_dbscan_auc,\n",
    "                     'AU precision-recall curve': arrhythmia_dbscan_auc_precision_recall}\n",
    "\n",
    "arrhythmia_performance = arrhythmia_performance.append(arrhythmia_iforest_performance, ignore_index = True)\n",
    "arrhythmia_performance = arrhythmia_performance.append(arrhythmia_lof_performance, ignore_index = True)\n",
    "arrhythmia_performance = arrhythmia_performance.append(arrhythmia_dbscan_performance, ignore_index = True)"
   ]
  },
  {
   "cell_type": "code",
   "execution_count": null,
   "id": "64173e23",
   "metadata": {},
   "outputs": [],
   "source": [
    "cardiocotography_performance = pd.DataFrame(columns = ['method','f1-score','sensitivity',\n",
    "                                           'precision','Time','AUC','AU precision-recall curve'])\n",
    "\n",
    "cardiocotography_iforest_performance = {'method':'iForest',\n",
    "               'f1-score':cardiocotography_iforest_report['1']['f1-score'], \n",
    "               'sensitivity':cardiocotography_iforest_report['1']['recall'],\n",
    "               'precision':cardiocotography_iforest_report['1']['precision'],        \n",
    "              'Time':cardiocotography_iforest_time,\n",
    "              'AUC':cardiocotography_iforest_auc,\n",
    "                      'AU precision-recall curve': cardiocotography_iforest_auc_precision_recall}\n",
    "cardiocotography_lof_performance = {'method':'LOF',\n",
    "               'f1-score':cardiocotography_lof_report['1']['f1-score'], \n",
    "               'sensitivity':cardiocotography_lof_report['1']['recall'],\n",
    "               'precision':cardiocotography_lof_report['1']['precision'],    \n",
    "              'Time':cardiocotography_lof_time,\n",
    "              'AUC':cardiocotography_lof_auc,\n",
    "                  'AU precision-recall curve': cardiocotography_lof_auc_precision_recall}\n",
    "cardiocotography_dbscan_performance = { 'method':'DBSCAN',\n",
    "               'f1-score':cardiocotography_dbscan_report['1']['f1-score'], \n",
    "               'sensitivity':cardiocotography_dbscan_report['1']['recall'],\n",
    "               'precision':cardiocotography_dbscan_report['1']['precision'],       \n",
    "              'Time':cardiocotography_dbscan_time,\n",
    "              'AUC':cardiocotography_dbscan_auc,\n",
    "                     'AU precision-recall curve': cardiocotography_dbscan_auc_precision_recall}\n",
    "\n",
    "cardiocotography_performance = cardiocotography_performance.append(cardiocotography_iforest_performance, ignore_index = True)\n",
    "cardiocotography_performance = cardiocotography_performance.append(cardiocotography_lof_performance, ignore_index = True)\n",
    "cardiocotography_performance = cardiocotography_performance.append(cardiocotography_dbscan_performance, ignore_index = True)"
   ]
  },
  {
   "cell_type": "code",
   "execution_count": null,
   "id": "c32982c9",
   "metadata": {},
   "outputs": [],
   "source": [
    "forestcover_performance = pd.DataFrame(columns = ['method','f1-score','sensitivity',\n",
    "                                           'precision','Time','AUC','AU precision-recall curve'])\n",
    "\n",
    "forestcover_iforest_performance = {'method':'iForest',\n",
    "               'f1-score':forestcover_iforest_report['1']['f1-score'], \n",
    "               'sensitivity':forestcover_iforest_report['1']['recall'],\n",
    "               'precision':forestcover_iforest_report['1']['precision'],        \n",
    "              'Time':forestcover_iforest_time,\n",
    "              'AUC':forestcover_iforest_auc,\n",
    "                      'AU precision-recall curve': forestcover_iforest_auc_precision_recall}\n",
    "forestcover_lof_performance = {'method':'LOF',\n",
    "               'f1-score':forestcover_lof_report['1']['f1-score'], \n",
    "               'sensitivity':forestcover_lof_report['1']['recall'],\n",
    "               'precision':forestcover_lof_report['1']['precision'],    \n",
    "              'Time':forestcover_lof_time,\n",
    "              'AUC':forestcover_lof_auc,\n",
    "                  'AU precision-recall curve': forestcover_lof_auc_precision_recall}\n",
    "forestcover_dbscan_performance = { 'method':'DBSCAN',\n",
    "               'f1-score':forestcover_dbscan_report['1']['f1-score'], \n",
    "               'sensitivity':forestcover_dbscan_report['1']['recall'],\n",
    "               'precision':forestcover_dbscan_report['1']['precision'],       \n",
    "              'Time':forestcover_dbscan_time,\n",
    "              'AUC':forestcover_dbscan_auc,\n",
    "                     'AU precision-recall curve': forestcover_dbscan_auc_precision_recall}\n",
    "\n",
    "forestcover_performance = forestcover_performance.append(forestcover_iforest_performance, ignore_index = True)\n",
    "forestcover_performance = forestcover_performance.append(forestcover_lof_performance, ignore_index = True)\n",
    "forestcover_performance = forestcover_performance.append(forestcover_dbscan_performance, ignore_index = True)"
   ]
  },
  {
   "cell_type": "code",
   "execution_count": null,
   "id": "804f71d2",
   "metadata": {},
   "outputs": [],
   "source": [
    "annthyroid_performance = pd.DataFrame(columns = ['method','f1-score','sensitivity',\n",
    "                                           'precision','Time','AUC','AU precision-recall curve'])\n",
    "\n",
    "annthyroid_iforest_performance = {'method':'iForest',\n",
    "               'f1-score':annthyroid_iforest_report['1']['f1-score'], \n",
    "               'sensitivity':annthyroid_iforest_report['1']['recall'],\n",
    "               'precision':annthyroid_iforest_report['1']['precision'],        \n",
    "              'Time':annthyroid_iforest_time,\n",
    "              'AUC':annthyroid_iforest_auc,\n",
    "                      'AU precision-recall curve': annthyroid_iforest_auc_precision_recall}\n",
    "annthyroid_lof_performance = {'method':'LOF',\n",
    "               'f1-score':annthyroid_lof_report['1']['f1-score'], \n",
    "               'sensitivity':annthyroid_lof_report['1']['recall'],\n",
    "               'precision':annthyroid_lof_report['1']['precision'],    \n",
    "              'Time':annthyroid_lof_time,\n",
    "              'AUC':annthyroid_lof_auc,\n",
    "                  'AU precision-recall curve': annthyroid_lof_auc_precision_recall}\n",
    "annthyroid_dbscan_performance = { 'method':'DBSCAN',\n",
    "               'f1-score':annthyroid_dbscan_report['1']['f1-score'], \n",
    "               'sensitivity':annthyroid_dbscan_report['1']['recall'],\n",
    "               'precision':annthyroid_dbscan_report['1']['precision'],       \n",
    "              'Time':annthyroid_dbscan_time,\n",
    "              'AUC':annthyroid_dbscan_auc,\n",
    "                     'AU precision-recall curve': annthyroid_dbscan_auc_precision_recall}\n",
    "\n",
    "annthyroid_performance = annthyroid_performance.append(annthyroid_iforest_performance, ignore_index = True)\n",
    "annthyroid_performance = annthyroid_performance.append(annthyroid_lof_performance, ignore_index = True)\n",
    "annthyroid_performance = annthyroid_performance.append(annthyroid_dbscan_performance, ignore_index = True)"
   ]
  },
  {
   "cell_type": "code",
   "execution_count": null,
   "id": "fed78391",
   "metadata": {},
   "outputs": [],
   "source": [
    "creditcard_performance = pd.DataFrame(columns = ['method','f1-score','sensitivity',\n",
    "                                           'precision','Time','AUC','AU precision-recall curve'])\n",
    "\n",
    "creditcard_iforest_performance = {'method':'iForest',\n",
    "               'f1-score':creditcard_iforest_report['1']['f1-score'], \n",
    "               'sensitivity':creditcard_iforest_report['1']['recall'],\n",
    "               'precision':creditcard_iforest_report['1']['precision'],        \n",
    "              'Time':creditcard_iforest_time,\n",
    "              'AUC':creditcard_iforest_auc,\n",
    "                      'AU precision-recall curve': creditcard_iforest_auc_precision_recall}\n",
    "creditcard_lof_performance = {'method':'LOF',\n",
    "               'f1-score':creditcard_lof_report['1']['f1-score'], \n",
    "               'sensitivity':creditcard_lof_report['1']['recall'],\n",
    "               'precision':creditcard_lof_report['1']['precision'],    \n",
    "              'Time':creditcard_lof_time,\n",
    "              'AUC':creditcard_lof_auc,\n",
    "                  'AU precision-recall curve': creditcard_lof_auc_precision_recall}\n",
    "creditcard_dbscan_performance = { 'method':'DBSCAN',\n",
    "               'f1-score':creditcard_dbscan_report['1']['f1-score'], \n",
    "               'sensitivity':creditcard_dbscan_report['1']['recall'],\n",
    "               'precision':creditcard_dbscan_report['1']['precision'],       \n",
    "              'Time':creditcard_dbscan_time,\n",
    "              'AUC':creditcard_dbscan_auc,\n",
    "                     'AU precision-recall curve': creditcard_dbscan_auc_precision_recall}\n",
    "\n",
    "creditcard_performance = creditcard_performance.append(creditcard_iforest_performance, ignore_index = True)\n",
    "creditcard_performance = creditcard_performance.append(creditcard_lof_performance, ignore_index = True)\n",
    "creditcard_performance = creditcard_performance.append(creditcard_dbscan_performance, ignore_index = True)"
   ]
  },
  {
   "cell_type": "code",
   "execution_count": null,
   "id": "95547d60",
   "metadata": {},
   "outputs": [],
   "source": [
    "mammography_performance = pd.DataFrame(columns = ['method','f1-score','sensitivity',\n",
    "                                           'precision','Time','AUC','AU precision-recall curve'])\n",
    "\n",
    "mammography_iforest_performance = {'method':'iForest',\n",
    "               'f1-score':mammography_iforest_report['1']['f1-score'], \n",
    "               'sensitivity':mammography_iforest_report['1']['recall'],\n",
    "               'precision':mammography_iforest_report['1']['precision'],        \n",
    "              'Time':mammography_iforest_time,\n",
    "              'AUC':mammography_iforest_auc,\n",
    "                      'AU precision-recall curve': mammography_iforest_auc_precision_recall}\n",
    "mammography_lof_performance = {'method':'LOF',\n",
    "               'f1-score':mammography_lof_report['1']['f1-score'], \n",
    "               'sensitivity':mammography_lof_report['1']['recall'],\n",
    "               'precision':mammography_lof_report['1']['precision'],    \n",
    "              'Time':mammography_lof_time,\n",
    "              'AUC':mammography_lof_auc,\n",
    "                  'AU precision-recall curve': mammography_lof_auc_precision_recall}\n",
    "mammography_dbscan_performance = { 'method':'DBSCAN',\n",
    "               'f1-score':mammography_dbscan_report['1']['f1-score'], \n",
    "               'sensitivity':mammography_dbscan_report['1']['recall'],\n",
    "               'precision':mammography_dbscan_report['1']['precision'],       \n",
    "              'Time':mammography_dbscan_time,\n",
    "              'AUC':mammography_dbscan_auc,\n",
    "                     'AU precision-recall curve': mammography_dbscan_auc_precision_recall}\n",
    "\n",
    "mammography_performance = mammography_performance.append(mammography_iforest_performance, ignore_index = True)\n",
    "mammography_performance = mammography_performance.append(mammography_lof_performance, ignore_index = True)\n",
    "mammography_performance = mammography_performance.append(mammography_dbscan_performance, ignore_index = True)"
   ]
  },
  {
   "cell_type": "code",
   "execution_count": null,
   "id": "b071cd70",
   "metadata": {},
   "outputs": [],
   "source": [
    "shuttle_performance = pd.DataFrame(columns = ['method','f1-score','sensitivity',\n",
    "                                           'precision','Time','AUC','AU precision-recall curve'])\n",
    "\n",
    "shuttle_iforest_performance = {'method':'iForest',\n",
    "               'f1-score':shuttle_iforest_report['1']['f1-score'], \n",
    "               'sensitivity':shuttle_iforest_report['1']['recall'],\n",
    "               'precision':shuttle_iforest_report['1']['precision'],        \n",
    "              'Time':shuttle_iforest_time,\n",
    "              'AUC':shuttle_iforest_auc,\n",
    "                      'AU precision-recall curve': shuttle_iforest_auc_precision_recall}\n",
    "shuttle_lof_performance = {'method':'LOF',\n",
    "               'f1-score':shuttle_lof_report['1']['f1-score'], \n",
    "               'sensitivity':shuttle_lof_report['1']['recall'],\n",
    "               'precision':shuttle_lof_report['1']['precision'],    \n",
    "              'Time':shuttle_lof_time,\n",
    "              'AUC':shuttle_lof_auc,\n",
    "                  'AU precision-recall curve': shuttle_lof_auc_precision_recall}\n",
    "shuttle_dbscan_performance = { 'method':'DBSCAN',\n",
    "               'f1-score':shuttle_dbscan_report['1']['f1-score'], \n",
    "               'sensitivity':shuttle_dbscan_report['1']['recall'],\n",
    "               'precision':shuttle_dbscan_report['1']['precision'],       \n",
    "              'Time':shuttle_dbscan_time,\n",
    "              'AUC':shuttle_dbscan_auc,\n",
    "                     'AU precision-recall curve': shuttle_dbscan_auc_precision_recall}\n",
    "\n",
    "shuttle_performance = shuttle_performance.append(shuttle_iforest_performance, ignore_index = True)\n",
    "shuttle_performance = shuttle_performance.append(shuttle_lof_performance, ignore_index = True)\n",
    "shuttle_performance = shuttle_performance.append(shuttle_dbscan_performance, ignore_index = True)"
   ]
  },
  {
   "cell_type": "code",
   "execution_count": null,
   "id": "5d32bf43",
   "metadata": {},
   "outputs": [],
   "source": [
    "mnist_performance = pd.DataFrame(columns = ['method','f1-score','sensitivity',\n",
    "                                           'precision','Time','AUC','AU precision-recall curve'])\n",
    "\n",
    "mnist_iforest_performance = {'method':'iForest',\n",
    "               'f1-score':mnist_iforest_report['1']['f1-score'], \n",
    "               'sensitivity':mnist_iforest_report['1']['recall'],\n",
    "               'precision':mnist_iforest_report['1']['precision'],        \n",
    "              'Time':mnist_iforest_time,\n",
    "              'AUC':mnist_iforest_auc,\n",
    "                      'AU precision-recall curve': mnist_iforest_auc_precision_recall}\n",
    "mnist_lof_performance = {'method':'LOF',\n",
    "               'f1-score':mnist_lof_report['1']['f1-score'], \n",
    "               'sensitivity':mnist_lof_report['1']['recall'],\n",
    "               'precision':mnist_lof_report['1']['precision'],    \n",
    "              'Time':mnist_lof_time,\n",
    "              'AUC':mnist_lof_auc,\n",
    "                  'AU precision-recall curve': mnist_lof_auc_precision_recall}\n",
    "mnist_dbscan_performance = { 'method':'DBSCAN',\n",
    "               'f1-score':mnist_dbscan_report['1']['f1-score'], \n",
    "               'sensitivity':mnist_dbscan_report['1']['recall'],\n",
    "               'precision':mnist_dbscan_report['1']['precision'],       \n",
    "              'Time':mnist_dbscan_time,\n",
    "              'AUC':mnist_dbscan_auc,\n",
    "                     'AU precision-recall curve': mnist_dbscan_auc_precision_recall}\n",
    "\n",
    "mnist_performance = mnist_performance.append(mnist_iforest_performance, ignore_index = True)\n",
    "mnist_performance = mnist_performance.append(mnist_lof_performance, ignore_index = True)\n",
    "mnist_performance = mnist_performance.append(mnist_dbscan_performance, ignore_index = True)"
   ]
  },
  {
   "cell_type": "code",
   "execution_count": null,
   "id": "d9bb042a",
   "metadata": {},
   "outputs": [],
   "source": [
    "vowels_performance = pd.DataFrame(columns = ['method','f1-score','sensitivity',\n",
    "                                           'precision','Time','AUC','AU precision-recall curve'])\n",
    "\n",
    "vowels_iforest_performance = {'method':'iForest',\n",
    "               'f1-score':vowels_iforest_report['1']['f1-score'], \n",
    "               'sensitivity':vowels_iforest_report['1']['recall'],\n",
    "               'precision':vowels_iforest_report['1']['precision'],        \n",
    "              'Time':vowels_iforest_time,\n",
    "              'AUC':vowels_iforest_auc,\n",
    "                      'AU precision-recall curve': vowels_iforest_auc_precision_recall}\n",
    "vowels_lof_performance = {'method':'LOF',\n",
    "               'f1-score':vowels_lof_report['1']['f1-score'], \n",
    "               'sensitivity':vowels_lof_report['1']['recall'],\n",
    "               'precision':vowels_lof_report['1']['precision'],    \n",
    "              'Time':vowels_lof_time,\n",
    "              'AUC':vowels_lof_auc,\n",
    "                  'AU precision-recall curve': vowels_lof_auc_precision_recall}\n",
    "vowels_dbscan_performance = { 'method':'DBSCAN',\n",
    "               'f1-score':vowels_dbscan_report['1']['f1-score'], \n",
    "               'sensitivity':vowels_dbscan_report['1']['recall'],\n",
    "               'precision':vowels_dbscan_report['1']['precision'],       \n",
    "              'Time':vowels_dbscan_time,\n",
    "              'AUC':vowels_dbscan_auc,\n",
    "                     'AU precision-recall curve': vowels_dbscan_auc_precision_recall}\n",
    "\n",
    "vowels_performance = vowels_performance.append(vowels_iforest_performance, ignore_index = True)\n",
    "vowels_performance = vowels_performance.append(vowels_lof_performance, ignore_index = True)\n",
    "vowels_performance = vowels_performance.append(vowels_dbscan_performance, ignore_index = True)"
   ]
  },
  {
   "cell_type": "code",
   "execution_count": null,
   "id": "953318c7",
   "metadata": {},
   "outputs": [],
   "source": [
    "seismic_performance = pd.DataFrame(columns = ['method','f1-score','sensitivity',\n",
    "                                           'precision','Time','AUC','AU precision-recall curve'])\n",
    "\n",
    "seismic_iforest_performance = {'method':'iForest',\n",
    "               'f1-score':seismic_iforest_report['1']['f1-score'], \n",
    "               'sensitivity':seismic_iforest_report['1']['recall'],\n",
    "               'precision':seismic_iforest_report['1']['precision'],        \n",
    "              'Time':seismic_iforest_time,\n",
    "              'AUC':seismic_iforest_auc,\n",
    "                      'AU precision-recall curve': seismic_iforest_auc_precision_recall}\n",
    "seismic_lof_performance = {'method':'LOF',\n",
    "               'f1-score':seismic_lof_report['1']['f1-score'], \n",
    "               'sensitivity':seismic_lof_report['1']['recall'],\n",
    "               'precision':seismic_lof_report['1']['precision'],    \n",
    "              'Time':seismic_lof_time,\n",
    "              'AUC':seismic_lof_auc,\n",
    "                  'AU precision-recall curve': seismic_lof_auc_precision_recall}\n",
    "seismic_dbscan_performance = { 'method':'DBSCAN',\n",
    "               'f1-score':seismic_dbscan_report['1']['f1-score'], \n",
    "               'sensitivity':seismic_dbscan_report['1']['recall'],\n",
    "               'precision':seismic_dbscan_report['1']['precision'],       \n",
    "              'Time':seismic_dbscan_time,\n",
    "              'AUC':seismic_dbscan_auc,\n",
    "                     'AU precision-recall curve': seismic_dbscan_auc_precision_recall}\n",
    "\n",
    "seismic_performance = seismic_performance.append(seismic_iforest_performance, ignore_index = True)\n",
    "seismic_performance = seismic_performance.append(seismic_lof_performance, ignore_index = True)\n",
    "seismic_performance = seismic_performance.append(seismic_dbscan_performance, ignore_index = True)"
   ]
  },
  {
   "cell_type": "code",
   "execution_count": null,
   "id": "3e8fb787",
   "metadata": {},
   "outputs": [],
   "source": [
    "musk_performance = pd.DataFrame(columns = ['method','f1-score','sensitivity',\n",
    "                                           'precision','Time','AUC','AU precision-recall curve'])\n",
    "\n",
    "musk_iforest_performance = {'method':'iForest',\n",
    "               'f1-score':musk_iforest_report['1']['f1-score'], \n",
    "               'sensitivity':musk_iforest_report['1']['recall'],\n",
    "               'precision':musk_iforest_report['1']['precision'],        \n",
    "              'Time':musk_iforest_time,\n",
    "              'AUC':musk_iforest_auc,\n",
    "                      'AU precision-recall curve': musk_iforest_auc_precision_recall}\n",
    "musk_lof_performance = {'method':'LOF',\n",
    "               'f1-score':musk_lof_report['1']['f1-score'], \n",
    "               'sensitivity':musk_lof_report['1']['recall'],\n",
    "               'precision':musk_lof_report['1']['precision'],    \n",
    "              'Time':musk_lof_time,\n",
    "              'AUC':musk_lof_auc,\n",
    "                  'AU precision-recall curve': musk_lof_auc_precision_recall}\n",
    "musk_dbscan_performance = { 'method':'DBSCAN',\n",
    "               'f1-score':musk_dbscan_report['1']['f1-score'], \n",
    "               'sensitivity':musk_dbscan_report['1']['recall'],\n",
    "               'precision':musk_dbscan_report['1']['precision'],       \n",
    "              'Time':musk_dbscan_time,\n",
    "              'AUC':musk_dbscan_auc,\n",
    "                     'AU precision-recall curve': musk_dbscan_auc_precision_recall}\n",
    "\n",
    "musk_performance = musk_performance.append(musk_iforest_performance, ignore_index = True)\n",
    "musk_performance = musk_performance.append(musk_lof_performance, ignore_index = True)\n",
    "musk_performance = musk_performance.append(musk_dbscan_performance, ignore_index = True)"
   ]
  },
  {
   "cell_type": "code",
   "execution_count": null,
   "id": "2b710976",
   "metadata": {},
   "outputs": [],
   "source": [
    "bank_performance = pd.DataFrame(columns = ['method','f1-score','sensitivity',\n",
    "                                           'precision','Time','AUC','AU precision-recall curve'])\n",
    "\n",
    "bank_iforest_performance = {'method':'iForest',\n",
    "               'f1-score':bank_iforest_report['1']['f1-score'], \n",
    "               'sensitivity':bank_iforest_report['1']['recall'],\n",
    "               'precision':bank_iforest_report['1']['precision'],        \n",
    "              'Time':bank_iforest_time,\n",
    "              'AUC':bank_iforest_auc,\n",
    "                      'AU precision-recall curve': bank_iforest_auc_precision_recall}\n",
    "bank_lof_performance = {'method':'LOF',\n",
    "               'f1-score':bank_lof_report['1']['f1-score'], \n",
    "               'sensitivity':bank_lof_report['1']['recall'],\n",
    "               'precision':bank_lof_report['1']['precision'],    \n",
    "              'Time':bank_lof_time,\n",
    "              'AUC':bank_lof_auc,\n",
    "                  'AU precision-recall curve': bank_lof_auc_precision_recall}\n",
    "bank_dbscan_performance = { 'method':'DBSCAN',\n",
    "               'f1-score':bank_dbscan_report['1']['f1-score'], \n",
    "               'sensitivity':bank_dbscan_report['1']['recall'],\n",
    "               'precision':bank_dbscan_report['1']['precision'],       \n",
    "              'Time':bank_dbscan_time,\n",
    "              'AUC':bank_dbscan_auc,\n",
    "                     'AU precision-recall curve': bank_dbscan_auc_precision_recall}\n",
    "\n",
    "bank_performance = bank_performance.append(bank_iforest_performance, ignore_index = True)\n",
    "bank_performance = bank_performance.append(bank_lof_performance, ignore_index = True)\n",
    "bank_performance = bank_performance.append(bank_dbscan_performance, ignore_index = True)"
   ]
  },
  {
   "cell_type": "markdown",
   "id": "aa71f59e",
   "metadata": {},
   "source": [
    "# AUPRC"
   ]
  },
  {
   "cell_type": "code",
   "execution_count": null,
   "id": "4bb772dd",
   "metadata": {},
   "outputs": [],
   "source": [
    "performance = pd.read_excel('./performance.xlsx', sheet_name = 'AUPRC')"
   ]
  },
  {
   "cell_type": "code",
   "execution_count": null,
   "id": "0bcc833b",
   "metadata": {},
   "outputs": [],
   "source": [
    "algorithms_names = performance.drop('Dataset', axis=1).columns\n",
    "performances_array = performance[algorithms_names].values\n",
    "ranks = np.array([rankdata(-p) for p in performances_array])\n",
    "average_ranks = np.mean(ranks, axis=0)\n",
    "print('\\n'.join('{} average rank: {}'.format(a, r) for a, r in zip(algorithms_names, average_ranks)))"
   ]
  },
  {
   "cell_type": "markdown",
   "id": "c5119f00",
   "metadata": {},
   "source": [
    "# Time"
   ]
  },
  {
   "cell_type": "code",
   "execution_count": null,
   "id": "c7fada6c",
   "metadata": {},
   "outputs": [],
   "source": [
    "performance = pd.read_excel('./performance.xlsx', sheet_name = 'Time')"
   ]
  },
  {
   "cell_type": "code",
   "execution_count": null,
   "id": "7575d49c",
   "metadata": {},
   "outputs": [],
   "source": [
    "algorithms_names = performance.drop('Dataset', axis=1).columns\n",
    "performances_array = performance[algorithms_names].values\n",
    "ranks = np.array([rankdata(p) for p in performances_array])\n",
    "average_ranks = np.mean(ranks, axis=0)\n",
    "print('\\n'.join('{} average rank: {}'.format(a, r) for a, r in zip(algorithms_names, average_ranks)))"
   ]
  },
  {
   "cell_type": "markdown",
   "id": "3df47a26",
   "metadata": {},
   "source": [
    "# F1 score"
   ]
  },
  {
   "cell_type": "code",
   "execution_count": null,
   "id": "6fde3bee",
   "metadata": {},
   "outputs": [],
   "source": [
    "performance = pd.read_excel('./performance.xlsx', sheet_name = 'F1 score')"
   ]
  },
  {
   "cell_type": "code",
   "execution_count": null,
   "id": "d32871f5",
   "metadata": {},
   "outputs": [],
   "source": [
    "algorithms_names = performance.drop('Dataset', axis=1).columns\n",
    "performances_array = performance[algorithms_names].values\n",
    "ranks = np.array([rankdata(-p) for p in performances_array])\n",
    "average_ranks = np.mean(ranks, axis=0)\n",
    "print('\\n'.join('{} average rank: {}'.format(a, r) for a, r in zip(algorithms_names, average_ranks)))"
   ]
  },
  {
   "cell_type": "markdown",
   "id": "2867b6ca",
   "metadata": {},
   "source": [
    "# Recall"
   ]
  },
  {
   "cell_type": "code",
   "execution_count": null,
   "id": "82f324bb",
   "metadata": {},
   "outputs": [],
   "source": [
    "performance = pd.read_excel('./performance.xlsx', sheet_name = 'recall')"
   ]
  },
  {
   "cell_type": "code",
   "execution_count": null,
   "id": "b49c97d3",
   "metadata": {},
   "outputs": [],
   "source": [
    "algorithms_names = performance.drop('Dataset', axis=1).columns\n",
    "performances_array = performance[algorithms_names].values\n",
    "ranks = np.array([rankdata(-p) for p in performances_array])\n",
    "average_ranks = np.mean(ranks, axis=0)\n",
    "print('\\n'.join('{} average rank: {}'.format(a, r) for a, r in zip(algorithms_names, average_ranks)))"
   ]
  },
  {
   "cell_type": "markdown",
   "id": "67182318",
   "metadata": {},
   "source": [
    "# Precision"
   ]
  },
  {
   "cell_type": "code",
   "execution_count": null,
   "id": "1a5894fd",
   "metadata": {},
   "outputs": [],
   "source": [
    "performance = pd.read_excel('./performance.xlsx', sheet_name = 'precision')"
   ]
  },
  {
   "cell_type": "code",
   "execution_count": null,
   "id": "67671f1a",
   "metadata": {},
   "outputs": [],
   "source": [
    "algorithms_names = performance.drop('Dataset', axis=1).columns\n",
    "performances_array = performance[algorithms_names].values\n",
    "ranks = np.array([rankdata(-p) for p in performances_array])\n",
    "average_ranks = np.mean(ranks, axis=0)\n",
    "print('\\n'.join('{} average rank: {}'.format(a, r) for a, r in zip(algorithms_names, average_ranks)))"
   ]
  },
  {
   "cell_type": "markdown",
   "id": "8a9fa3cc",
   "metadata": {},
   "source": [
    "# Datasets visualization"
   ]
  },
  {
   "cell_type": "code",
   "execution_count": null,
   "id": "93a17965",
   "metadata": {},
   "outputs": [],
   "source": [
    "datasets = pd.read_excel('./performance.xlsx', sheet_name = 'Datasets')"
   ]
  },
  {
   "cell_type": "code",
   "execution_count": null,
   "id": "ed52d838",
   "metadata": {},
   "outputs": [],
   "source": [
    "sb.set(font_scale=1.5)\n",
    "fig, (ax1, ax2, ax3) = plt.subplots(figsize=(35, 20),ncols=3)\n",
    "\n",
    "\n",
    "g1 = sb.heatmap(pd.DataFrame(datasets.set_index('Dataset')['# observations']).sort_values(by = '# observations'), cmap=\"Greys\", annot=True, fmt=\".0f\",\n",
    "          ax=ax1, annot_kws={\"fontsize\":22})\n",
    "g1.set(ylabel=None)\n",
    "cbar = ax1.collections[0].colorbar\n",
    "cbar.set_ticks([50000, 100000, 150000, 200000, 250000])\n",
    "cbar.set_ticklabels(['50K', '100K', '150K', '200K','250K'])\n",
    "ax1.tick_params(rotation=30)\n",
    "\n",
    "\n",
    "g2= sb.heatmap(pd.DataFrame(datasets.set_index('Dataset')['% anomalies']).sort_values(by = '% anomalies'), cmap=\"Greys\", annot=True, fmt=\".2%\",\n",
    "          ax=ax2, annot_kws={\"fontsize\":22})\n",
    "g2.set(ylabel=None)\n",
    "cbar = ax2.collections[0].colorbar\n",
    "cbar.set_ticks([.01, .05, .1, 0.14])\n",
    "cbar.set_ticklabels(['1%', '5%', '10%', '14%'])\n",
    "ax2.tick_params(rotation=30)\n",
    "\n",
    "g3= sb.heatmap(pd.DataFrame(datasets.set_index('Dataset')['# attributes ']).sort_values(by = '# attributes '), cmap=\"Greys\", annot=True, fmt=\".0f\",\n",
    "          ax = ax3, annot_kws={\"fontsize\":22})\n",
    "g3.set(ylabel=None)\n",
    "ax3.tick_params(rotation=30)\n",
    "\n",
    "\n",
    "#plt.show()\n",
    "plt.savefig(\"Datasets.svg\", format = 'svg', dpi=300, bbox_inches='tight')"
   ]
  },
  {
   "cell_type": "markdown",
   "id": "1c7bee58",
   "metadata": {},
   "source": [
    "# McNemar's test"
   ]
  },
  {
   "cell_type": "markdown",
   "id": "b141823d",
   "metadata": {},
   "source": [
    "## Arrhythmia"
   ]
  },
  {
   "cell_type": "code",
   "execution_count": null,
   "id": "94bcb64a",
   "metadata": {},
   "outputs": [],
   "source": [
    "print(\"Test results:\")\n",
    "table = mcnemar_table(y_target=arrhythmia_y_true, y_model1=arrhythmia_iforest_y, y_model2=arrhythmia_dbscan_y)\n",
    "chi2, p = mcnemar(ary=table, corrected=True)\n",
    "print(f\"chi squared statistic: {chi2}\")\n",
    "print(f\"p-value: {p}\\n\")"
   ]
  },
  {
   "cell_type": "code",
   "execution_count": null,
   "id": "2d5f5145",
   "metadata": {},
   "outputs": [],
   "source": [
    "print(\"Test results:\")\n",
    "table = mcnemar_table(y_target=arrhythmia_y_true, y_model1=arrhythmia_iforest_y, y_model2=arrhythmia_lof_y)\n",
    "chi2, p = mcnemar(ary=table, corrected=True)\n",
    "print(f\"chi squared statistic: {chi2}\")\n",
    "print(f\"p-value: {p}\\n\")"
   ]
  },
  {
   "cell_type": "code",
   "execution_count": null,
   "id": "8ceafbda",
   "metadata": {},
   "outputs": [],
   "source": [
    "print(\"Test results:\")\n",
    "table = mcnemar_table(y_target=arrhythmia_y_true, y_model1=arrhythmia_dbscan_y, y_model2=arrhythmia_lof_y)\n",
    "chi2, p = mcnemar(ary=table, corrected=True)\n",
    "print(f\"chi squared statistic: {chi2}\")\n",
    "print(f\"p-value: {p}\\n\")"
   ]
  },
  {
   "cell_type": "markdown",
   "id": "d6264fe5",
   "metadata": {},
   "source": [
    "## Cardiocotography"
   ]
  },
  {
   "cell_type": "code",
   "execution_count": null,
   "id": "86d96e45",
   "metadata": {},
   "outputs": [],
   "source": [
    "print(\"Test results:\")\n",
    "table = mcnemar_table(y_target=cardio_y_true, y_model1=cardio_iforest_y, y_model2=cardio_dbscan_y)\n",
    "chi2, p = mcnemar(ary=table, corrected=True)\n",
    "print(f\"chi squared statistic: {chi2}\")\n",
    "print(f\"p-value: {p}\\n\")"
   ]
  },
  {
   "cell_type": "code",
   "execution_count": null,
   "id": "7baeb8a3",
   "metadata": {},
   "outputs": [],
   "source": [
    "print(\"Test results:\")\n",
    "table = mcnemar_table(y_target=cardio_y_true, y_model1=cardio_iforest_y, y_model2=cardio_lof_y)\n",
    "chi2, p = mcnemar(ary=table, corrected=True)\n",
    "print(f\"chi squared statistic: {chi2}\")\n",
    "print(f\"p-value: {p}\\n\")"
   ]
  },
  {
   "cell_type": "code",
   "execution_count": null,
   "id": "031efa07",
   "metadata": {},
   "outputs": [],
   "source": [
    "print(\"Test results:\")\n",
    "table = mcnemar_table(y_target=cardio_y_true, y_model1=cardio_dbscan_y, y_model2=cardio_lof_y)\n",
    "chi2, p = mcnemar(ary=table, corrected=True)\n",
    "print(f\"chi squared statistic: {chi2}\")\n",
    "print(f\"p-value: {p}\\n\")"
   ]
  },
  {
   "cell_type": "markdown",
   "id": "bdc421e9",
   "metadata": {},
   "source": [
    "## ForestCover"
   ]
  },
  {
   "cell_type": "code",
   "execution_count": null,
   "id": "d26eeae1",
   "metadata": {},
   "outputs": [],
   "source": [
    "print(\"Test results:\")\n",
    "table = mcnemar_table(y_target=forestcover_y_true, y_model1=forestcover_iforest_y, y_model2=forestcover_dbscan_y)\n",
    "chi2, p = mcnemar(ary=table, corrected=True)\n",
    "print(f\"chi squared statistic: {chi2}\")\n",
    "print(f\"p-value: {p}\\n\")"
   ]
  },
  {
   "cell_type": "code",
   "execution_count": null,
   "id": "cb35fd03",
   "metadata": {},
   "outputs": [],
   "source": [
    "print(\"Test results:\")\n",
    "table = mcnemar_table(y_target=forestcover_y_true, y_model1=forestcover_iforest_y, y_model2=forestcover_lof_y)\n",
    "chi2, p = mcnemar(ary=table, corrected=True)\n",
    "print(f\"chi squared statistic: {chi2}\")\n",
    "print(f\"p-value: {p}\\n\")"
   ]
  },
  {
   "cell_type": "code",
   "execution_count": null,
   "id": "e295c496",
   "metadata": {},
   "outputs": [],
   "source": [
    "print(\"Test results:\")\n",
    "table = mcnemar_table(y_target=forestcover_y_true, y_model1=forestcover_dbscan_y, y_model2=forestcover_lof_y)\n",
    "chi2, p = mcnemar(ary=table, corrected=True)\n",
    "print(f\"chi squared statistic: {chi2}\")\n",
    "print(f\"p-value: {p}\\n\")"
   ]
  },
  {
   "cell_type": "markdown",
   "id": "f57cc901",
   "metadata": {},
   "source": [
    "## Annthyroid"
   ]
  },
  {
   "cell_type": "code",
   "execution_count": null,
   "id": "87ea74d8",
   "metadata": {},
   "outputs": [],
   "source": [
    "print(\"Test results:\")\n",
    "table = mcnemar_table(y_target=annthyroid_y_true, y_model1=annthyroid_iforest_y, y_model2=annthyroid_dbscan_y)\n",
    "chi2, p = mcnemar(ary=table, corrected=True)\n",
    "print(f\"chi squared statistic: {chi2}\")\n",
    "print(f\"p-value: {p}\\n\")"
   ]
  },
  {
   "cell_type": "code",
   "execution_count": null,
   "id": "131a1142",
   "metadata": {},
   "outputs": [],
   "source": [
    "print(\"Test results:\")\n",
    "table = mcnemar_table(y_target=annthyroid_y_true, y_model1=annthyroid_iforest_y, y_model2=annthyroid_lof_y)\n",
    "chi2, p = mcnemar(ary=table, corrected=True)\n",
    "print(f\"chi squared statistic: {chi2}\")\n",
    "print(f\"p-value: {p}\\n\")"
   ]
  },
  {
   "cell_type": "code",
   "execution_count": null,
   "id": "1bda9fd3",
   "metadata": {},
   "outputs": [],
   "source": [
    "print(\"Test results:\")\n",
    "table = mcnemar_table(y_target=annthyroid_y_true, y_model1=annthyroid_dbscan_y, y_model2=annthyroid_lof_y)\n",
    "chi2, p = mcnemar(ary=table, corrected=True)\n",
    "print(f\"chi squared statistic: {chi2}\")\n",
    "print(f\"p-value: {p}\\n\")"
   ]
  },
  {
   "cell_type": "markdown",
   "id": "ca1c7c40",
   "metadata": {},
   "source": [
    "## Credit card"
   ]
  },
  {
   "cell_type": "code",
   "execution_count": null,
   "id": "c3d87ddc",
   "metadata": {},
   "outputs": [],
   "source": [
    "print(\"Test results:\")\n",
    "table = mcnemar_table(y_target=creditcard_y_true, y_model1=creditcard_iforest_y, y_model2=creditcard_dbscan_y)\n",
    "chi2, p = mcnemar(ary=table, corrected=True)\n",
    "print(f\"chi squared statistic: {chi2}\")\n",
    "print(f\"p-value: {p}\\n\")"
   ]
  },
  {
   "cell_type": "code",
   "execution_count": null,
   "id": "d80867a0",
   "metadata": {},
   "outputs": [],
   "source": [
    "print(\"Test results:\")\n",
    "table = mcnemar_table(y_target=creditcard_y_true, y_model1=creditcard_iforest_y, y_model2=creditcard_lof_y)\n",
    "chi2, p = mcnemar(ary=table, corrected=True)\n",
    "print(f\"chi squared statistic: {chi2}\")\n",
    "print(f\"p-value: {p}\\n\")"
   ]
  },
  {
   "cell_type": "code",
   "execution_count": null,
   "id": "9b270e17",
   "metadata": {},
   "outputs": [],
   "source": [
    "print(\"Test results:\")\n",
    "table = mcnemar_table(y_target=creditcard_y_true, y_model1=creditcard_dbscan_y, y_model2=creditcard_lof_y)\n",
    "chi2, p = mcnemar(ary=table, corrected=True)\n",
    "print(f\"chi squared statistic: {chi2}\")\n",
    "print(f\"p-value: {p}\\n\")"
   ]
  },
  {
   "cell_type": "markdown",
   "id": "f9ad759e",
   "metadata": {},
   "source": [
    "## Mammography"
   ]
  },
  {
   "cell_type": "code",
   "execution_count": null,
   "id": "22f759a4",
   "metadata": {},
   "outputs": [],
   "source": [
    "print(\"Test results:\")\n",
    "table = mcnemar_table(y_target=mammography_y_true, y_model1=mammography_iforest_y, y_model2=mammography_dbscan_y)\n",
    "chi2, p = mcnemar(ary=table, corrected=True)\n",
    "print(f\"chi squared statistic: {chi2}\")\n",
    "print(f\"p-value: {p}\\n\")"
   ]
  },
  {
   "cell_type": "code",
   "execution_count": null,
   "id": "deecbc68",
   "metadata": {},
   "outputs": [],
   "source": [
    "print(\"Test results:\")\n",
    "table = mcnemar_table(y_target=mammography_y_true, y_model1=mammography_iforest_y, y_model2=mammography_lof_y)\n",
    "chi2, p = mcnemar(ary=table, corrected=True)\n",
    "print(f\"chi squared statistic: {chi2}\")\n",
    "print(f\"p-value: {p}\\n\")"
   ]
  },
  {
   "cell_type": "code",
   "execution_count": null,
   "id": "f3d03495",
   "metadata": {},
   "outputs": [],
   "source": [
    "print(\"Test results:\")\n",
    "table = mcnemar_table(y_target=mammography_y_true, y_model1=mammography_dbscan_y, y_model2=mammography_lof_y)\n",
    "chi2, p = mcnemar(ary=table, corrected=True)\n",
    "print(f\"chi squared statistic: {chi2}\")\n",
    "print(f\"p-value: {p}\\n\")"
   ]
  },
  {
   "cell_type": "markdown",
   "id": "47009b37",
   "metadata": {},
   "source": [
    "## Shuttle"
   ]
  },
  {
   "cell_type": "code",
   "execution_count": null,
   "id": "6121255b",
   "metadata": {},
   "outputs": [],
   "source": [
    "print(\"Test results:\")\n",
    "table = mcnemar_table(y_target=shuttle_y_true, y_model1=shuttle_iforest_y, y_model2 = shuttle_dbscan_y)\n",
    "chi2, p = mcnemar(ary=table, corrected=True)\n",
    "print(f\"chi squared statistic: {chi2}\")\n",
    "print(f\"p-value: {p}\\n\")"
   ]
  },
  {
   "cell_type": "code",
   "execution_count": null,
   "id": "bd09647f",
   "metadata": {},
   "outputs": [],
   "source": [
    "print(\"Test results:\")\n",
    "table = mcnemar_table(y_target=shuttle_y_true, y_model1=shuttle_iforest_y, y_model2=shuttle_lof_y)\n",
    "chi2, p = mcnemar(ary=table, corrected=True)\n",
    "print(f\"chi squared statistic: {chi2}\")\n",
    "print(f\"p-value: {p}\\n\")"
   ]
  },
  {
   "cell_type": "code",
   "execution_count": null,
   "id": "57222f99",
   "metadata": {},
   "outputs": [],
   "source": [
    "print(\"Test results:\")\n",
    "table = mcnemar_table(y_target=shuttle_y_true, y_model1=shuttle_dbscan_y, y_model2=shuttle_lof_y)\n",
    "chi2, p = mcnemar(ary=table, corrected=True)\n",
    "print(f\"chi squared statistic: {chi2}\")\n",
    "print(f\"p-value: {p}\\n\")"
   ]
  },
  {
   "cell_type": "markdown",
   "id": "c2cd1233",
   "metadata": {},
   "source": [
    "## Mnist"
   ]
  },
  {
   "cell_type": "code",
   "execution_count": null,
   "id": "ec4fc293",
   "metadata": {},
   "outputs": [],
   "source": [
    "print(\"Test results:\")\n",
    "table = mcnemar_table(y_target=mnist_y_true, y_model1=mnist_iforest_y, y_model2 = mnist_dbscan_y)\n",
    "chi2, p = mcnemar(ary=table, corrected=True)\n",
    "print(f\"chi squared statistic: {chi2}\")\n",
    "print(f\"p-value: {p}\\n\")"
   ]
  },
  {
   "cell_type": "code",
   "execution_count": null,
   "id": "6705ffbc",
   "metadata": {},
   "outputs": [],
   "source": [
    "print(\"Test results:\")\n",
    "table = mcnemar_table(y_target=mnist_y_true, y_model1=mnist_iforest_y, y_model2=mnist_lof_y)\n",
    "chi2, p = mcnemar(ary=table, corrected=True)\n",
    "print(f\"chi squared statistic: {chi2}\")\n",
    "print(f\"p-value: {p}\\n\")"
   ]
  },
  {
   "cell_type": "code",
   "execution_count": null,
   "id": "a6d33757",
   "metadata": {},
   "outputs": [],
   "source": [
    "print(\"Test results:\")\n",
    "table = mcnemar_table(y_target=mnist_y_true, y_model1=mnist_dbscan_y, y_model2=mnist_lof_y)\n",
    "chi2, p = mcnemar(ary=table, corrected=True)\n",
    "print(f\"chi squared statistic: {chi2}\")\n",
    "print(f\"p-value: {p}\\n\")"
   ]
  },
  {
   "cell_type": "markdown",
   "id": "2edc24f2",
   "metadata": {},
   "source": [
    "## Vowels"
   ]
  },
  {
   "cell_type": "code",
   "execution_count": null,
   "id": "4f62674e",
   "metadata": {},
   "outputs": [],
   "source": [
    "print(\"Test results:\")\n",
    "table = mcnemar_table(y_target=vowels_y_true, y_model1=vowels_iforest_y, y_model2 = vowels_dbscan_y)\n",
    "chi2, p = mcnemar(ary=table, corrected=True)\n",
    "print(f\"chi squared statistic: {chi2}\")\n",
    "print(f\"p-value: {p}\\n\")"
   ]
  },
  {
   "cell_type": "code",
   "execution_count": null,
   "id": "7061acdc",
   "metadata": {},
   "outputs": [],
   "source": [
    "print(\"Test results:\")\n",
    "table = mcnemar_table(y_target=vowels_y_true, y_model1=vowels_iforest_y, y_model2=vowels_lof_y)\n",
    "chi2, p = mcnemar(ary=table, corrected=True)\n",
    "print(f\"chi squared statistic: {chi2}\")\n",
    "print(f\"p-value: {p}\\n\")"
   ]
  },
  {
   "cell_type": "code",
   "execution_count": null,
   "id": "658169ea",
   "metadata": {},
   "outputs": [],
   "source": [
    "print(\"Test results:\")\n",
    "table = mcnemar_table(y_target=vowels_y_true, y_model1=vowels_dbscan_y, y_model2=vowels_lof_y)\n",
    "chi2, p = mcnemar(ary=table, corrected=True)\n",
    "print(f\"chi squared statistic: {chi2}\")\n",
    "print(f\"p-value: {p}\\n\")"
   ]
  },
  {
   "cell_type": "markdown",
   "id": "1263e0bb",
   "metadata": {},
   "source": [
    "## Seismic"
   ]
  },
  {
   "cell_type": "code",
   "execution_count": null,
   "id": "9b3b0ec9",
   "metadata": {},
   "outputs": [],
   "source": [
    "print(\"Test results:\")\n",
    "table = mcnemar_table(y_target=seismic_y_true, y_model1=seismic_iforest_y, y_model2 = seismic_dbscan_y)\n",
    "chi2, p = mcnemar(ary=table, corrected=True)\n",
    "print(f\"chi squared statistic: {chi2}\")\n",
    "print(f\"p-value: {p}\\n\")"
   ]
  },
  {
   "cell_type": "code",
   "execution_count": null,
   "id": "548f2439",
   "metadata": {},
   "outputs": [],
   "source": [
    "print(\"Test results:\")\n",
    "table = mcnemar_table(y_target=seismic_y_true, y_model1=seismic_iforest_y, y_model2=seismic_lof_y)\n",
    "chi2, p = mcnemar(ary=table, corrected=True)\n",
    "print(f\"chi squared statistic: {chi2}\")\n",
    "print(f\"p-value: {p}\\n\")"
   ]
  },
  {
   "cell_type": "code",
   "execution_count": null,
   "id": "e3ce4499",
   "metadata": {},
   "outputs": [],
   "source": [
    "print(\"Test results:\")\n",
    "table = mcnemar_table(y_target=seismic_y_true, y_model1=seismic_dbscan_y, y_model2=seismic_lof_y)\n",
    "chi2, p = mcnemar(ary=table, corrected=True)\n",
    "print(f\"chi squared statistic: {chi2}\")\n",
    "print(f\"p-value: {p}\\n\")"
   ]
  },
  {
   "cell_type": "markdown",
   "id": "03382f4d",
   "metadata": {},
   "source": [
    "## Musk"
   ]
  },
  {
   "cell_type": "code",
   "execution_count": null,
   "id": "ae30052d",
   "metadata": {},
   "outputs": [],
   "source": [
    "print(\"Test results:\")\n",
    "table = mcnemar_table(y_target=musk_y_true, y_model1=musk_iforest_y, y_model2 = musk_dbscan_y)\n",
    "chi2, p = mcnemar(ary=table, corrected=True)\n",
    "print(f\"chi squared statistic: {chi2}\")\n",
    "print(f\"p-value: {p}\\n\")"
   ]
  },
  {
   "cell_type": "code",
   "execution_count": null,
   "id": "e47e53ba",
   "metadata": {},
   "outputs": [],
   "source": [
    "print(\"Test results:\")\n",
    "table = mcnemar_table(y_target=musk_y_true, y_model1=musk_iforest_y, y_model2=musk_lof_y)\n",
    "chi2, p = mcnemar(ary=table, corrected=True)\n",
    "print(f\"chi squared statistic: {chi2}\")\n",
    "print(f\"p-value: {p}\\n\")"
   ]
  },
  {
   "cell_type": "code",
   "execution_count": null,
   "id": "367f6975",
   "metadata": {},
   "outputs": [],
   "source": [
    "print(\"Test results:\")\n",
    "table = mcnemar_table(y_target=musk_y_true, y_model1=musk_dbscan_y, y_model2=musk_lof_y)\n",
    "chi2, p = mcnemar(ary=table, corrected=True)\n",
    "print(f\"chi squared statistic: {chi2}\")\n",
    "print(f\"p-value: {p}\\n\")"
   ]
  },
  {
   "cell_type": "markdown",
   "id": "e2367ece",
   "metadata": {},
   "source": [
    "## Bank"
   ]
  },
  {
   "cell_type": "code",
   "execution_count": null,
   "id": "6e33d9c4",
   "metadata": {},
   "outputs": [],
   "source": [
    "print(\"Test results:\")\n",
    "table = mcnemar_table(y_target=bank_y_true, y_model1=bank_iforest_y, y_model2 = bank_dbscan_y)\n",
    "chi2, p = mcnemar(ary=table, corrected=True)\n",
    "print(f\"chi squared statistic: {chi2}\")\n",
    "print(f\"p-value: {p}\\n\")"
   ]
  },
  {
   "cell_type": "code",
   "execution_count": null,
   "id": "be369379",
   "metadata": {},
   "outputs": [],
   "source": [
    "print(\"Test results:\")\n",
    "table = mcnemar_table(y_target=bank_y_true, y_model1=bank_iforest_y, y_model2=bank_lof_y)\n",
    "chi2, p = mcnemar(ary=table, corrected=True)\n",
    "print(f\"chi squared statistic: {chi2}\")\n",
    "print(f\"p-value: {p}\\n\")"
   ]
  },
  {
   "cell_type": "code",
   "execution_count": null,
   "id": "18129c88",
   "metadata": {},
   "outputs": [],
   "source": [
    "print(\"Test results:\")\n",
    "table = mcnemar_table(y_target=bank_y_true, y_model1=bank_dbscan_y, y_model2=bank_lof_y)\n",
    "chi2, p = mcnemar(ary=table, corrected=True)\n",
    "print(f\"chi squared statistic: {chi2}\")\n",
    "print(f\"p-value: {p}\\n\")"
   ]
  },
  {
   "cell_type": "code",
   "execution_count": null,
   "id": "308e6f09",
   "metadata": {},
   "outputs": [],
   "source": []
  }
 ],
 "metadata": {
  "kernelspec": {
   "display_name": "Python 3 (ipykernel)",
   "language": "python",
   "name": "python3"
  },
  "language_info": {
   "codemirror_mode": {
    "name": "ipython",
    "version": 3
   },
   "file_extension": ".py",
   "mimetype": "text/x-python",
   "name": "python",
   "nbconvert_exporter": "python",
   "pygments_lexer": "ipython3",
   "version": "3.9.5"
  }
 },
 "nbformat": 4,
 "nbformat_minor": 5
}
